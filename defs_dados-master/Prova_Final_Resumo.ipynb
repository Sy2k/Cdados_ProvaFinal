{
 "cells": [
  {
   "cell_type": "markdown",
   "metadata": {},
   "source": [
    "# Resumo de Ciência dos Dados"
   ]
  },
  {
   "cell_type": "markdown",
   "metadata": {},
   "source": [
    "<a id=\"topo\"></a>\n",
    "\n",
    "# Sumário\n",
    "\n",
    "[1. Teorema do Limite Central](#section1)    \n",
    "\n",
    "[2. Teste de Hipóteses](#section2)  \n",
    "&nbsp;&nbsp;&nbsp;&nbsp;[2.1. $\\sigma$ conhecido](#section2.1)   \n",
    "&nbsp;&nbsp;&nbsp;&nbsp;[2.2. $\\sigma$ desconhecido](#section2.2)  \n",
    "\n",
    "[3. Intervalo de Confiança](#section3)  \n",
    "\n",
    "[4. Bootstrapping](#section4)  \n",
    "\n",
    "[5. Teste de Permutação](#section5) \n",
    "\n",
    "[6. Regressão Linear](#section6)  \n",
    "&nbsp;&nbsp;&nbsp;&nbsp;[6.1. Regressão Simples](#section6.1)     \n",
    "&nbsp;&nbsp;&nbsp;&nbsp;[6.2. Regressão Múltipla](#section6.2)  \n",
    "&nbsp;&nbsp;&nbsp;&nbsp;[6.3. Dados da Tabela](#section6.3)  \n",
    "\n",
    "[Links adicionais](#links)  "
   ]
  },
  {
   "cell_type": "markdown",
   "metadata": {},
   "source": [
    "# Imports"
   ]
  },
  {
   "cell_type": "code",
   "execution_count": 1,
   "metadata": {},
   "outputs": [],
   "source": [
    "from scipy.stats import norm, t, percentileofscore\n",
    "from math import sqrt\n",
    "from numpy import mean, std, var, random, percentile, array\n",
    "import matplotlib.pyplot as plt\n",
    "import statsmodels.api as sm\n",
    "import pandas as pd"
   ]
  },
  {
   "cell_type": "markdown",
   "metadata": {},
   "source": [
    "<a id = \"section1\"></a>"
   ]
  },
  {
   "cell_type": "markdown",
   "metadata": {},
   "source": [
    "## 1. Teorema do Limite Central - Aula 15\n",
    "\n",
    "O Teorema do Limite Central diz que para um número de amostras $n$ suficientemente grande, a distribuição da média destas amostras se aproxima de uma normal."
   ]
  },
  {
   "cell_type": "markdown",
   "metadata": {},
   "source": [
    "[Voltar para o sumário](#topo)"
   ]
  },
  {
   "cell_type": "markdown",
   "metadata": {},
   "source": [
    "<a id = \"section2\"></a>"
   ]
  },
  {
   "cell_type": "markdown",
   "metadata": {},
   "source": [
    "## 2. Teste de Hipóteses - Aula 19\n",
    "\n",
    "Um teste de hipótese serve para testar uma hipótese proposta alternativa ($H_A$) à uma hipótese chamada de hipótese nula ($H_0$). Para fazer o teste, deve-se seguir alguns passos:\n",
    "\n",
    "1. Fixar a hipótese nula $H_0$ e a hipótese alternativa $H_A$.\n",
    "2. Definir a estatística utilizada para julgar a hipótese $H_0$. (Geralmente usamos $\\overline{x}$ e a distribuição de $\\overline{X}$ para tentar inferir algo sobre os valores da população de $X$.)\n",
    "3. Decida o $\\alpha$ a utilizar e defina a Região Crítica segundo $H_0$. \n",
    "    * $\\alpha$ é a probabilidade de rejeitar $H_0$ mesmo que ela seja verdadeira.\n",
    "    * $\\alpha$ é chamado de nível de significância.\n",
    "    * Geralmente fixa-se $\\alpha$ em 1%, 5% ou 10%.\n",
    "    * 1 - $\\alpha$ é chamado de nível de confiança.\n",
    "4. Calcule a estatística da amostra. (Novamente, usa-se $\\bar{x}$ em geral.)\n",
    "5. Se a estatística da amostra estiver na região crítica, rejeite $H_0$, caso contrário, **não rejeite $H_0$**. (nunca aceite!)\n",
    "\n",
    "### Valor-p\n",
    "\n",
    "O valor *$p$* é a probabilidade de obter um resultado **igual ao da amostra ou mais extremo**, se $H_0$ for verdadeira.\n",
    "\n",
    "### Erros tipo 1 e tipo 2\n",
    "\n",
    "<img src = \"erros.PNG\" style = \"width: 50%; height: 50%\">"
   ]
  },
  {
   "cell_type": "markdown",
   "metadata": {},
   "source": [
    "<a id = \"section2.1\"></a>"
   ]
  },
  {
   "cell_type": "markdown",
   "metadata": {},
   "source": [
    "### 2.1 - $\\sigma$ conhecido\n",
    "\n",
    "Quando se sabe o desvio padrão das amostras, obtém se $\\sigma_{\\bar{x}}$ usando a fórmula\n",
    "\n",
    "\\begin{equation}\n",
    "\\sigma_{\\bar{x}} = \\frac{\\sigma}{\\sqrt{n}}\n",
    "\\end{equation}\n",
    "\n",
    "onde $\\sigma$ é o desvio padrão e $n$ é o número de amostras.\n",
    "\n",
    "A partir disso, pode-se simplesmente usar uma normal para analisar a distribuição de $\\bar{X}$, onde o loc é $\\bar{x}$ e o scale é $\\sigma_{\\bar{x}}$."
   ]
  },
  {
   "cell_type": "markdown",
   "metadata": {},
   "source": [
    "$\\Large \\textbf{Exemplo}$"
   ]
  },
  {
   "cell_type": "markdown",
   "metadata": {},
   "source": [
    "$\\large \\textbf{APS 6 - Questão 2}$\n",
    "\n",
    "A vida útil medida em horas de um termopar usado num forno é distribuída de forma normal, com desvio padrão de 20 horas. Uma amostra aleatória de 15 termopares resultou nos seguintes dados: 553, 552, 567, 579, 550, 541, 537, 553, 552, 546, 538, 553, 581, 539, 529.\n",
    "\n",
    "$\\textbf{a.}$ Existe evidência para suportar a alegação de que a vida média exceda 540 horas? Use um nível de significância de 0.05.\n",
    "\n",
    "$\\normalsize \\textbf{Resolução do item a}$\n",
    "\n",
    "Para descobrir se existe evidência para suportar tal alegação, precisamos montar um teste de hipótese. Primeiro, devemos determinar a hipótese nula e a alternativa:\n",
    "\n",
    "$ H_0 \\colon \\ \\mu = 540 \\\\ H_A \\colon \\ \\mu > 540 \\\\ $\n",
    "\n",
    "Em seguida, devemos definir a estatística a ser utilizada. No caso, usaremos $\\bar{x}$ e a distribuição de $\\bar{X}$.\n",
    "\n",
    "O próximo passo é definir a região crítica. Para tal, analisaremos a hipótese $H_A$. Como ela diz que $\\mu > 540$, o teste é unicaudal, e a região crítica se encontra à direita de $\\mu_0 = 540$. Para defini-la, devemos descobrir qual ponto cuja área à direita é igual à 5% (significância definida pelo enunciado), e pode-se fazer isto através da função norm.ppf(). Vale notar que definimos a distribuição de $\\bar{X}$ como normal pois temos o desvio padrão."
   ]
  },
  {
   "cell_type": "code",
   "execution_count": 2,
   "metadata": {},
   "outputs": [
    {
     "name": "stdout",
     "output_type": "stream",
     "text": [
      "A média amostral é 551.333.\n",
      "O x crítico deste teste é 548.494.\n"
     ]
    }
   ],
   "source": [
    "am1 = [553, 552, 567, 579, 550, 541, 537, 553, 552, 546, 538, 553, 581, 539, 529]\n",
    "n1 = len(am1)\n",
    "media1 = mean(am1)\n",
    "mu = 540\n",
    "alfa = 0.05\n",
    "sigma = 20\n",
    "sigmabarra = 20/sqrt(n1)\n",
    "\n",
    "xcrit1 = norm.ppf(0.95,mu,sigmabarra)\n",
    "\n",
    "print(f\"A média amostral é {round(media1,3)}.\")\n",
    "print(f\"O x crítico deste teste é {round(xcrit1,3)}.\")"
   ]
  },
  {
   "cell_type": "markdown",
   "metadata": {},
   "source": [
    "Como $\\mu_{amostral} > x_{crítico}$, há evidência para suportar a alegação que $\\mu > 540$, logo, rejeito $H_0$."
   ]
  },
  {
   "cell_type": "markdown",
   "metadata": {},
   "source": [
    "$\\textbf{b.}$ Qual o valor P deste teste?\n",
    "\n",
    "$\\normalsize \\textbf{Resolução do item b}$\n",
    "\n",
    "O teste é unicaudal à direita, portanto, para obter o valor P, basta obter a área à direita de $\\mu_{amostral}$."
   ]
  },
  {
   "cell_type": "code",
   "execution_count": 3,
   "metadata": {},
   "outputs": [
    {
     "name": "stdout",
     "output_type": "stream",
     "text": [
      "O valor P deste teste é 1.409%.\n"
     ]
    }
   ],
   "source": [
    "valP1 = norm.sf(media1,mu,sigmabarra)\n",
    "print(f\"O valor P deste teste é {round(valP1*100,3)}%.\")"
   ]
  },
  {
   "cell_type": "markdown",
   "metadata": {},
   "source": [
    "<a id = \"section2.2\"></a>"
   ]
  },
  {
   "cell_type": "markdown",
   "metadata": {},
   "source": [
    "### 2.2 - $\\sigma$ desconhecido\n",
    "\n",
    "Quando não se sabe o $\\sigma_x$, trocamos a normal pela chamada t-student para analisar a distribuição de $\\bar{X}$ (uma vez que $n$ não é grande o suficiente para usar o TLC). Nela, usa-se o desvio padrão amostral (este calculado pela função `std()` do numpy), e há um novo argumento a ser levado em consideração: os graus de liberade (este dado pelo argumento `df` na distribuição `t`, e como usa-se o desvio padrão amostral, usa-se que `df = n-1`). "
   ]
  },
  {
   "cell_type": "markdown",
   "metadata": {},
   "source": [
    "$\\Large \\textbf{Exemplo}$"
   ]
  },
  {
   "cell_type": "markdown",
   "metadata": {},
   "source": [
    "$\\large \\textbf{APS 6 - Questão 3}$\n",
    "\n",
    "Você foi contratado para avaliar um novo modelo de taco de golfe. O fabricante quer saber se há evidência de que o coeficiente de restituição médio dos tacos excede 0.82 com nível de significância $\\alpha = 0.05$. Em um lançador padronizado de bolas de golfe, foram testados 15 tacos e os coeficientes de restituição medidos foram: 0.8411, 0.8191, 0.8182, 0.8125, 0.8580, 0.8532, 0.8483, 0.8276, 0.8042, 0.8730, 0.8282, 0.8359, 0.8750, 0.7983, 0.8660. Sabe-se por experiência anterior que o coeficiente de restituição tem distribuição normal, mas você não sabe o $\\sigma$.\n",
    "\n",
    "Pede-se:\n",
    "\n",
    "$\\textbf{a)}$ Calcule $\\bar{x}$ e s (lembre-se dos graus de liberdade).\n",
    "\n",
    "$\\normalsize \\textbf{Resolução do item a}$\n",
    "\n",
    "O $\\bar{x}$ é dado pela média amostral dos dados. Já o s é dado pelo desvio padrão amostral dos dados (n-1). Para calculá-los, utilizaremos as funções mean() e std() do módulo numpy."
   ]
  },
  {
   "cell_type": "code",
   "execution_count": 4,
   "metadata": {},
   "outputs": [
    {
     "name": "stdout",
     "output_type": "stream",
     "text": [
      "A média é 0.837 e o desvio padrão s é 0.025.\n"
     ]
    }
   ],
   "source": [
    "am2 = [0.8411, 0.8191, 0.8182, 0.8125, 0.8580, 0.8532, 0.8483, 0.8276, 0.8042, 0.8730, 0.8282, 0.8359, 0.8750, 0.7983, 0.8660]\n",
    "media2 = mean(am2)\n",
    "#Usamos ddof = 1 pois o desvio padrão é amostral.\n",
    "s = std(am2, ddof = 1)\n",
    "\n",
    "print(f\"A média é {round(media2,3)} e o desvio padrão s é {round(s,3)}.\")"
   ]
  },
  {
   "cell_type": "markdown",
   "metadata": {},
   "source": [
    "$\\textbf{b)}$ Formule as hipóteses nula e alternativa. Responda se o teste de hipótese vai ter região de rejeição bicaudal ou unicaudal.\n",
    "\n",
    "$\\normalsize \\textbf{Resposta do item b}$\n",
    "\n",
    "$ H_0 \\colon \\ \\mu \\leq 0.82 \\\\ H_A \\colon \\ \\mu > 0.82 \\\\ $\n",
    "\n",
    "A região de rejeção do teste é unicaudal à direita.\n",
    "\n",
    "$\\textbf{c)}$ Calcule a estatística t de teste para a t padrão usando a relação $t_{obs} = \\frac{x_{obs} − \\mu_0}{\\frac{s}{\\sqrt{n}}}$\n",
    "\n",
    "$\\normalsize \\textbf{Resolução do item c}$"
   ]
  },
  {
   "cell_type": "code",
   "execution_count": 5,
   "metadata": {},
   "outputs": [
    {
     "name": "stdout",
     "output_type": "stream",
     "text": [
      "O t_obs é 2.719.\n"
     ]
    }
   ],
   "source": [
    "xobs = media2\n",
    "mu0 = 0.82\n",
    "n2 = len(am2)\n",
    "tobs = (xobs-mu0)/(s/sqrt(n2))\n",
    "\n",
    "print(f\"O t_obs é {round(tobs,3)}.\")"
   ]
  },
  {
   "cell_type": "markdown",
   "metadata": {},
   "source": [
    "$\\textbf{d)}$ Calcule o $t_{crítico}$. Compare $t_{obs}$ com $t_{crítico}$ e escreva sua conclusão para o teste de hipóteses.\n",
    "\n",
    "$\\normalsize \\textbf{Resolução do item d}$\n",
    "\n",
    "Para calcular o $t_{crítico}$, deve-se repetir o procedimento para calcular o $x_{crítico}$ feito no item a da questão 2. No entanto, há uma diferença: os dados seguem uma distribuição t-Student. Portanto, alteramos a estatística. Além disto, devemos lembrar que ao calcular $t_{obs}$, padronizamos a distribuição, logo, para calcular o $t_{crítico}$, devem ser usados a média e desvio padrão padrões."
   ]
  },
  {
   "cell_type": "code",
   "execution_count": 6,
   "metadata": {},
   "outputs": [
    {
     "name": "stdout",
     "output_type": "stream",
     "text": [
      "O t_crítico é 1.761. Como t_obs > t_crítico (uma vez que t_obs = 2.719), deve-se rejeitar H0.\n"
     ]
    }
   ],
   "source": [
    "tcrit = t.ppf(0.95, df = n2-1)\n",
    "\n",
    "print(f\"O t_crítico é {round(tcrit,3)}. Como t_obs > t_crítico (uma vez que t_obs = {round(tobs,3)}), deve-se rejeitar H0.\")"
   ]
  },
  {
   "cell_type": "markdown",
   "metadata": {},
   "source": [
    "$\\textbf{e)}$ Calcule o valor p de $t_{obs}$. Compare o valor p com o $\\alpha$. Verifique se sua conclusão do item d continua válida.\n",
    "\n",
    "$\\normalsize \\textbf{Resolução do item e}$\n",
    "\n",
    "Para calcular o valor P de $t_{obs}$, podemos repetir o procedimento feito no item b da questão 2, lembrando somente de usar a distribuição t ao invés da normal."
   ]
  },
  {
   "cell_type": "code",
   "execution_count": 7,
   "metadata": {},
   "outputs": [
    {
     "name": "stdout",
     "output_type": "stream",
     "text": [
      "O valor P de t_obs é 0.831%. Como este valor é menor que α (α = 5.0%), a conclusão feita no item d continua válida.\n"
     ]
    }
   ],
   "source": [
    "valP2 = t.sf(tobs,n2-1)\n",
    "print(f\"O valor P de t_obs é {round(valP2*100,3)}%. Como este valor é menor que α (α = {alfa*100}%), a conclusão feita no item d continua válida.\")"
   ]
  },
  {
   "cell_type": "markdown",
   "metadata": {},
   "source": [
    "$\\textbf{f)}$ Refaça o teste de hipótese usando a padronização embutida das funções do scipy. Especificamente stats.t.cdf e stats.t.ppf.\n",
    "\n",
    "$\\normalsize \\textbf{Resolução do item f}$\n",
    "\n",
    "A questão pede que seja refeito o teste de hipótese mas sem utilizar a padronização dada por $t_{obs}$. O procedimento é o mesmo que fizemos na questão 2, mas além de alterar para a distribuição t, deve-se utilizar a média $\\mu_0 = 0.82$ e devemos ajustar o desvio padrão $s$ para se tornar um $s_{\\bar{x}}$."
   ]
  },
  {
   "cell_type": "code",
   "execution_count": 8,
   "metadata": {},
   "outputs": [
    {
     "name": "stdout",
     "output_type": "stream",
     "text": [
      "O x crítico do teste se encontra em x = 0.831, e o valor P da média amostral é 0.831%.\n",
      "Como a média amostral se encontra depois do x crítico (média = 0.837) e o valor P é menor que o α (α = 5.0%), rejeita-se H0, o que gera a mesma conclusão dos itens 'e' e 'f'.\n"
     ]
    }
   ],
   "source": [
    "#Cálculo da região crítica\n",
    "\n",
    "xcrit2 = t.ppf(0.95,df = n2-1,loc = mu0,scale = s/sqrt(n2))\n",
    "\n",
    "#Cálculo do valor P\n",
    "\n",
    "valp = t.sf(media2,df = n2-1,loc = mu0,scale = s/sqrt(n2))\n",
    "\n",
    "print(f\"O x crítico do teste se encontra em x = {round(xcrit2,3)}, e o valor P da média amostral é {round(valp*100,3)}%.\")\n",
    "print(f\"Como a média amostral se encontra depois do x crítico (média = {round(media2,3)}) e o valor P é menor que o α (α = {alfa*100}%), rejeita-se H0, o que gera a mesma conclusão dos itens 'e' e 'f'.\")"
   ]
  },
  {
   "cell_type": "markdown",
   "metadata": {},
   "source": [
    "[Voltar para o sumário](#topo)"
   ]
  },
  {
   "cell_type": "markdown",
   "metadata": {},
   "source": [
    "<a id = \"section3\"></a>"
   ]
  },
  {
   "cell_type": "markdown",
   "metadata": {},
   "source": [
    "## 3. Intervalo de Confiança - Aula 21\n",
    "\n",
    "\n",
    "### Intervalo de confiança para Normal\n",
    "\n",
    "Vamos definir um nível de confiança $\\gamma$. Sejam $-z_{\\gamma/2}$ e $z_{\\gamma/2}$ os valores que delimitam uma probabilidade $\\gamma$ de forma simétrica na curva $\\sim N(0,1)$\n",
    "\n",
    "Temos que:\n",
    "\n",
    "$P(-z_{\\gamma/2} < Z < z_{\\gamma/2}) = \\gamma$\n",
    "\n",
    "e\n",
    "\n",
    "$-z_{\\gamma/2} < Z < z_{\\gamma/2}$\n",
    "\n",
    "Podemos nos lembrar da parametrização para curva de médias amostrais:\n",
    "\n",
    "$Z = \\frac{\\overline{X} - \\mu}{\\frac{\\sigma}{\\sqrt{n}}}$\n",
    "\n",
    "Portanto:\n",
    "\n",
    "$-z_{\\gamma/2} < \\frac{\\overline{X} - \\mu}{\\frac{\\sigma}{\\sqrt{n}}}  < z_{\\gamma/2}$\n",
    "\n",
    "Se isolarmos o $\\mu$ chegaremos a:\n",
    "\n",
    "$\\overline{X} - z_{\\gamma/2} \\frac{\\sigma}{\\sqrt{n}} < \\mu < \\overline{X} + z_{\\gamma/2} \\frac{\\sigma}{\\sqrt{n}}$ \n",
    "\n",
    "A inequação acima nos define uma faixa com $\\gamma$ de probabilidade de conter $\\mu$ . Podemos escrevê-la na forma de um intervalo:\n",
    "\n",
    "$IC(\\mu, \\gamma) = [ \\overline{X} - z_{\\gamma/2} \\frac{\\sigma}{\\sqrt{n}}; \\overline{X} + z_{\\gamma/2} \\frac{\\sigma}{\\sqrt{n}} ]$\n",
    "\n",
    "\n",
    "### Erro de estimativa \n",
    "\n",
    "Costuma-se usar como estimativa de erro o valor de metade do intervalo de confiança\n",
    "\n",
    "$E = z_{\\gamma/2}\\frac{\\sigma}{\\sqrt{n}}$\n",
    "\n",
    "Isolando o n temos:\n",
    "\n",
    "$n = ( z_{\\gamma/2} \\frac{\\sigma}{E} )^2$\n",
    "\n",
    "\n",
    "### Intervalo de confiança para t\n",
    "\n",
    "\n",
    "Podemos fazer uma derivação análoga para a distribuição $t$:\n",
    "\n",
    "\n",
    "$IC(\\mu, \\gamma) = [ \\overline{X} - t_{\\gamma/2}^{n-1} \\frac{s}{\\sqrt{n}}; \\overline{X} + t_{\\gamma/2}^{n-1} \\frac{s}{\\sqrt{n}} ]$"
   ]
  },
  {
   "cell_type": "markdown",
   "metadata": {},
   "source": [
    "[Voltar para o sumário](#topo)"
   ]
  },
  {
   "cell_type": "markdown",
   "metadata": {},
   "source": [
    "<a id = \"section4\"></a>"
   ]
  },
  {
   "cell_type": "markdown",
   "metadata": {},
   "source": [
    "## 4. Bootstrapping - Aula 21\n",
    "\n",
    "Usa-se bootstrapping quando não se conhece a distribuição de $X_i$ e a distribuição de $\\bar{X}$. Este é um método de reamostragem com reposição que consiste em recuperar a distribuição de uma medida de interesse a partir de uma amostra mestre. Por exemplo, podemos utilizar a média como medida de interesse, mas a distribuição de outras medidas também pode ser estimadas, como por exemplo variância, mediana, kurtosis, etc.\n",
    "\n",
    "Reamostragem com reposição significa que um mesmo elemento pode ser selecionado várias vezes, assim como outro elemento pode não ser escolhido. Seria equivalente a sortear um número e por de volta na urna.\n",
    "\n",
    "Dado um conjunto com a amostra mestre aleatória $x_1, x_2,..., x_n$ de uma população qualquer, devemos sortear consecutivamente, com reposição, conjuntos de tamanho também $n$ dessa amostra amostra mestre. Esses conjuntos são chamados de reamostragem e esse processo deve ser feito milhares de vezes.\n",
    "\n",
    "A cada reamostragem deve-se aplicar a medida de interesse, nesse caso a média, e guardar em uma lista. Ao fim das milhares de reamostragens, teremos uma distribuição da medida desejada.\n",
    "\n",
    "De posse desta distribuição, podemos calcular o Intervalo de Confiança através dos seus percentis."
   ]
  },
  {
   "cell_type": "markdown",
   "metadata": {},
   "source": [
    "$\\Large \\textbf{Exemplo}$"
   ]
  },
  {
   "cell_type": "markdown",
   "metadata": {},
   "source": [
    "$\\large \\textbf{Aula 21 - Questão 1}$\n",
    "\n",
    "Dado uma lista 0.69689142, 0.57995802, 0.06450754, 0.61206626, 0.91976314, 0.34363861, 0.82575631, 0.41666036, 0.62153527, 0.56757104, 0.86683518, 0.28922458, 0.28521698, faça a reconstrução de $\\bar{X}$ usando bootstrapping.\n",
    "\n",
    "Algoritmo:\n",
    "\n",
    "1. Repetir 10000 vezes:\n",
    "    1. Realizar um sorteio de n números com reposição da amostra mestre. Usar a função choice() do numpy.\n",
    "    2. Calcular a média da reamostragem e guardar em uma lista.\n",
    "2. Plotar o histograma da lista.\n",
    "3. Exibir a média e o desvio padrão dos elementos da lista."
   ]
  },
  {
   "cell_type": "code",
   "execution_count": 9,
   "metadata": {},
   "outputs": [
    {
     "name": "stdout",
     "output_type": "stream",
     "text": [
      "A média da lista de médias é 0.546 e a variância é 0.005\n"
     ]
    }
   ],
   "source": [
    "x = [0.69689142, 0.57995802, 0.06450754, 0.61206626, 0.91976314, 0.34363861, 0.82575631, \n",
    "     0.41666036, 0.62153527, 0.56757104, 0.86683518, 0.28922458, 0.28521698]\n",
    "\n",
    "n_vezes = 10000\n",
    "\n",
    "size = len(x)\n",
    "\n",
    "medias = []\n",
    "\n",
    "for i in range(n_vezes):\n",
    "    x_fake = random.choice(x, size = size, replace=True)\n",
    "    media = mean(x_fake)\n",
    "    medias.append(media)\n",
    "    \n",
    "media_lista_medias = mean(medias)\n",
    "variancia_lista_medias = var(medias)\n",
    "print(f\"A média da lista de médias é {round(media_lista_medias,3)} e a variância é {round(variancia_lista_medias,3)}\")"
   ]
  },
  {
   "cell_type": "code",
   "execution_count": 10,
   "metadata": {},
   "outputs": [
    {
     "data": {
      "image/png": "[encoded data removed]",
      "text/plain": [
       "<Figure size 432x288 with 1 Axes>"
      ]
     },
     "metadata": {
      "needs_background": "light"
     },
     "output_type": "display_data"
    }
   ],
   "source": [
    "plt.hist(medias, density=True, bins=50);\n",
    "plt.axvline(media_lista_medias, color=\"r\")\n",
    "plt.show()"
   ]
  },
  {
   "cell_type": "markdown",
   "metadata": {},
   "source": [
    "$\\large \\textbf{Questão 2}$\n",
    "\n",
    "Montar as hipóteses e o intervalo de confiança de 95% bicaudal. Responder o problema de inferência."
   ]
  },
  {
   "cell_type": "code",
   "execution_count": 11,
   "metadata": {},
   "outputs": [
    {
     "name": "stdout",
     "output_type": "stream",
     "text": [
      "O intervalo de confiança de 95% bicaudal está definido entre 0.413 e 0.677. Como a média 0.546 está dentro deste intervalo, não rejeito H0.\n"
     ]
    }
   ],
   "source": [
    "first = percentile(medias, 2.5)\n",
    "second = percentile(medias, 97.5)\n",
    "print(f\"O intervalo de confiança de 95% bicaudal está definido entre {round(first,3)} e {round(second,3)}. Como a média {round(media_lista_medias,3)} está dentro deste intervalo, não rejeito H0.\")"
   ]
  },
  {
   "cell_type": "markdown",
   "metadata": {},
   "source": [
    "[Voltar para o sumário](#topo)"
   ]
  },
  {
   "cell_type": "markdown",
   "metadata": {},
   "source": [
    "<a id = \"section5\"></a>"
   ]
  },
  {
   "cell_type": "markdown",
   "metadata": {},
   "source": [
    "## 5. Teste de Permutação - Aula 22"
   ]
  },
  {
   "cell_type": "markdown",
   "metadata": {},
   "source": [
    "$\\large \\textbf{Exercício 1}$\n",
    "\n",
    "Uma fábrica realizou uma calibração em uma máquina na linha de produção. A equipe que realizou os ajustes afirmou que após a calibração, a máquina ainda manteve o mesmo tempo médio de produção. Para verificar se realmente o tempo médio permaneceu inalterado, foram realizadas duas medidas de tempo: uma antes e uma depois da calibração.\n",
    "\n",
    "Foram selecionadas 7 e 8 peças aleatorianente para as medidas antes e depois da calibração, repectivamente. Elas estão representadas abaixo pelas séries xA e xB, respectivamente.\n",
    "\n",
    "Assuma que o tempo de produção de uma peça possui uma distribuição normal e que o desvio padrão realmente permaneceu inalterado, contudo desconhecido."
   ]
  },
  {
   "cell_type": "code",
   "execution_count": 12,
   "metadata": {},
   "outputs": [],
   "source": [
    "xA = [47.66708824, 48.11337801, 47.83104582, 46.69416928, 48.70934634, 45.61498917, 51.79239414]\n",
    "xB = [52.82692462, 49.60021673, 50.23705478, 49.65527133, 49.78115306, 49.81176314, 53.04044198, 48.6253753 ]"
   ]
  },
  {
   "cell_type": "markdown",
   "metadata": {},
   "source": [
    "$\\textbf{a.}$ Calcular a diferença entre os tempos médios depois e antes da calibração. Nomeie essa diferença entre as médias amostrais originais de $d_{obs}$."
   ]
  },
  {
   "cell_type": "code",
   "execution_count": 13,
   "metadata": {},
   "outputs": [
    {
     "name": "stdout",
     "output_type": "stream",
     "text": [
      "A diferença das médias observada de depois e antes é 2.387.\n"
     ]
    }
   ],
   "source": [
    "dobs = mean(xB) - mean(xA) # complete\n",
    "print(f\"A diferença das médias observada de depois e antes é {round(dobs,3)}.\")"
   ]
  },
  {
   "cell_type": "markdown",
   "metadata": {},
   "source": [
    "Como os dois conjuntos representam uma pequena amostra da população, não é possível inferir que essa seja a real diferença entre as médias das duas variáveis aleatórias. Portanto é desejável aferir se realmente a diferença é zero, com um nível de significância de 5%.\n",
    "\n",
    "$\\textbf{b.}$ Formule a hipótese nula e a hipótese alternativa em termos do problema e dos parâmetros: \n",
    "\n",
    "\\begin{equation} H_0:\\mbox{Calibração não alterou produção} \\rightarrow \\mu_B=\\mu_A \\rightarrow \\mu_B-\\mu_A=0 \\end{equation}\n",
    "\\begin{equation} H_A:\\mbox{Calibração alterou produção} \\rightarrow \\mu_B\\neq\\mu_A \\rightarrow \\mu_B-\\mu_A\\neq0 \\end{equation}"
   ]
  },
  {
   "cell_type": "markdown",
   "metadata": {},
   "source": [
    "Quando não há qualquer informação acerca do desvio padrão populacional e a amostra contém poucos dados, para concluir se a hipótese nula será ou não rejeitada, antes de realizar um teste convencional, realiza-se um Teste de Permutação.\n",
    "\n",
    "Nesse teste, a ideia consiste em permutar os dados das duas amostras, ou seja, embaralhar os valores contidos em $x_A$ e $x_B$ e criar novas amostras.\n",
    "\n",
    "### Caso 1\n",
    "\n",
    "Ambas as amostras possuem a mesma unidade de medida e a ordem dos elementos nas amostras não é importante.\n",
    "\n",
    "monta-se uma única lista com a união dos dados em $x_A$ e $x_B$\n",
    "\n",
    "Repetir $n$ vezes:\n",
    "\n",
    "* embaralha-se a lista\n",
    "* separa-se novamente respeitando os tamanhos originais de cada amostra ($n_A$ e $n_B$).\n",
    "* Calcule a diferença entre as médias de $x_B$ e $x_A$ (ou outra estatística de $A$ e $B$)\n",
    "* armazene a diferença (ou a estatística de interesse)\n",
    "\n",
    "Use o histograma e os dados das diferenças obtidas para tomar a decisão raciocinando com base em intervalos de confiança e percentis.\n",
    "\n",
    "Observação:\n",
    "\n",
    "* Note que os tamanhos amostrais não precisam ser necessariamente iguais.\n",
    "* Vale para qualquer estatística de duas amostras, não só para a média\n",
    "\n",
    "### Caso 2\n",
    "\n",
    "As séries possuem unidades de medida diferentes ou o teste em questão exige uma certa ordem dos dados entre as amostras (por exemplo: teste de correlação)\n",
    "\n",
    "Repetir $n$ vezes:\n",
    "\n",
    "* embaralha-se apenas uma das amostras\n",
    "* Calcule a estatística usando  $x_B$ e $x_A$, uma das quais terá sido permutada\n",
    "* armazene o valor da estatística das duas amostras\n",
    "\n",
    "Use o histograma e os dados das diferenças obtidas para tomar a decisão raciocinando com base em intervalos de confiança e percentis.\n",
    "\n",
    "### Explosão combinatória\n",
    "\n",
    "Idealmente, é desejável a realização de todas as permutações possíveis. Nem sempre é viável.\n",
    "\n",
    "No caso do exemplo, os tamanhos das duas amostras são $n_A=7$ e $n_B=8$, temos que o número de combinações possíveis é 15!, ou mais de 1,3 trilhão de possibilidades, tornando a solução computacionalmente inviável.\n",
    "\n",
    "$\\textbf{c.}$ Monte um programa para realizar o teste de permutação (considerando o Caso 1) para 100 mil iterações. Utilize o comando np.random.shuffle() para embaralhar a lista contendo a união dos dados em $x_A$ e $x_B$."
   ]
  },
  {
   "cell_type": "code",
   "execution_count": 14,
   "metadata": {},
   "outputs": [],
   "source": [
    "#Permutation test\n",
    "\n",
    "nA = len(xA)\n",
    "nB = len(xB)\n",
    "\n",
    "#juntar as duas listas\n",
    "xAB = xA + xB\n",
    "\n",
    "#número de permutações, o ideal seria (m+n)! mas seria inviável.\n",
    "t = 100000\n",
    "\n",
    "perm = []\n",
    "for i in range(0,t):\n",
    "    #Embaralha o xy\n",
    "    random.shuffle(xAB)\n",
    "    #calcula a dif de medias entre o x e o y embaralhado e separado\n",
    "    perm.append(mean(xAB[nB:]) - mean(xAB[0:nB]))"
   ]
  },
  {
   "cell_type": "markdown",
   "metadata": {},
   "source": [
    "$\\textbf{d.}$ Exibir o histograma das diferenças entre as médias permutadas."
   ]
  },
  {
   "cell_type": "code",
   "execution_count": 15,
   "metadata": {},
   "outputs": [
    {
     "data": {
      "image/png": "[encoded data removed]",
      "text/plain": [
       "<Figure size 432x288 with 1 Axes>"
      ]
     },
     "metadata": {
      "needs_background": "light"
     },
     "output_type": "display_data"
    }
   ],
   "source": [
    "plt.hist(perm, density=True, bins=30)\n",
    "plt.show()"
   ]
  },
  {
   "cell_type": "markdown",
   "metadata": {},
   "source": [
    "$\\textbf{e.}$ Calcule o valor-p do teste de permutação.\n",
    "\n",
    "Lembre que:\n",
    "\n",
    "* O teste é bicaudal de acordo com a hipótese alternativa ($H_A:\\mu_B\\neq\\mu_A \\rightarrow \\mu_B-\\mu_A\\neq0$)\n",
    "* Interessam os casos em que  $d_{obs} > 0$ , a proporção dos casos em que as diferenças entre as médias permutadas foram maiores do que a diferença  dobs  observada no item a\n",
    "* Também interessam os casos em que  $d_{obs} < 0$ , ou seja, a proporção dos casos em que a as diferenças entre as médias permutadas foram menores do que a diferença dobs observada no item a\n",
    "* Note que você não pode simplesmente calcular uma das duas caudas e dobrar o valor. **Por quê?**\n",
    "\n",
    "Faça uma conclusão"
   ]
  },
  {
   "cell_type": "code",
   "execution_count": 16,
   "metadata": {},
   "outputs": [
    {
     "name": "stdout",
     "output_type": "stream",
     "text": [
      "O valor p do teste é 2.375%.\n",
      "Ocorreram 1157 casos em que as diferenças entre as médias permutadas foram maiores do que a diferença dobs.\n",
      "Ocorreram 98843 casos em que as diferenças entre as médias permutadas foram menores do que a diferença dobs.\n"
     ]
    }
   ],
   "source": [
    "# Jeito 1\n",
    "\n",
    "p_direito = 1 - percentileofscore(perm, dobs)/100\n",
    "p_esquerdo = percentileofscore(perm, -dobs)/100\n",
    "p = p_direito + p_esquerdo\n",
    "print(f\"O valor p do teste é {round(p*100,3)}%.\")\n",
    "\n",
    "perm = array(perm)\n",
    "print(f\"Ocorreram {len(perm[perm>dobs])} casos em que as diferenças entre as médias permutadas foram maiores do que a diferença dobs.\")\n",
    "print(f\"Ocorreram {len(perm[perm<dobs])} casos em que as diferenças entre as médias permutadas foram menores do que a diferença dobs.\")"
   ]
  },
  {
   "cell_type": "code",
   "execution_count": 17,
   "metadata": {},
   "outputs": [
    {
     "name": "stdout",
     "output_type": "stream",
     "text": [
      "O valor p do teste é 2.374%.\n"
     ]
    }
   ],
   "source": [
    "#Jeito 2:\n",
    "\n",
    "perm = array(perm)\n",
    "\n",
    "pvalue_dir = len(perm[perm > dobs])/len(perm)\n",
    "pvalue_esq = len(perm[perm < -dobs])/len(perm)\n",
    "\n",
    "p_total = pvalue_dir + pvalue_esq\n",
    "print(f\"O valor p do teste é {round(p_total*100,3)}%.\")"
   ]
  },
  {
   "cell_type": "markdown",
   "metadata": {},
   "source": [
    "[Voltar para o sumário](#topo)"
   ]
  },
  {
   "cell_type": "markdown",
   "metadata": {},
   "source": [
    "<a id = \"section6\"></a>"
   ]
  },
  {
   "cell_type": "markdown",
   "metadata": {},
   "source": [
    "## 6. Regressão Linear - Aula 23\n",
    "\n",
    "Usamos regressão linear para explicar como uma ou mais variáveis se comportam em função de outra. Há a variável dependente y (variável que buscamos explicar), a variável independente x (pode ser uma ou mais variáveis), que é utilizada para explicar a variável dependente e o modelo de regressão, dado por uma reta que associa y a um ou vários x.\n",
    "\n",
    "Há dois modelos de regressão que podem ser seguidos: a simples (um y e um x) e a múltipla (um y e vários x)"
   ]
  },
  {
   "cell_type": "markdown",
   "metadata": {},
   "source": [
    "<a id = \"section6.1\"></a>"
   ]
  },
  {
   "cell_type": "markdown",
   "metadata": {},
   "source": [
    "### 6.1 Regressão Simples\n",
    "\n",
    "A regressão simples segue o modelo\n",
    "$$\\hat{\\beta_{0}} = \\bar{y} - \\hat{\\beta_1} \\bar{x}$$\n",
    "onde $\\hat{\\beta_{1}}$ se dá pela fórmula\n",
    "$$\\hat{\\beta_1}= \\frac{\\sum\\limits_{i=1}^{n}(x_{i}-\\bar{x})(y_{i}-\\bar{y})}{\\sum\\limits_{i=1}^{n}(x_{i}-\\bar{x})^2} = \\frac{S_{xy}}{S_{xx}}$$\n",
    "\n",
    "Estes valores também podem ser obtidos com uso da biblioteca `statsmodels`."
   ]
  },
  {
   "cell_type": "markdown",
   "metadata": {},
   "source": [
    "$\\Large \\textbf{Exemplo}$"
   ]
  },
  {
   "cell_type": "markdown",
   "metadata": {},
   "source": [
    "$\\large \\textbf{APS 8 - Exercício 1}$\n",
    "\n",
    "**b.** Agora use a biblioteca `statsmodels` para encontrar $\\hat{\\beta_0}$ e $\\hat{\\beta_1}$. Escreva a equação que estima *Condutividade termal* em função da *Densidade do produto*"
   ]
  },
  {
   "cell_type": "code",
   "execution_count": 18,
   "metadata": {},
   "outputs": [
    {
     "name": "stderr",
     "output_type": "stream",
     "text": [
      "c:\\users\\bruno domingues\\appdata\\local\\programs\\python\\python36\\lib\\site-packages\\statsmodels\\stats\\stattools.py:72: ValueWarning: omni_normtest is not valid with less than 8 observations; 6 samples were given.\n",
      "  \"samples were given.\" % int(n), ValueWarning)\n"
     ]
    },
    {
     "data": {
      "text/html": [
       "<table class=\"simpletable\">\n",
       "<caption>OLS Regression Results</caption>\n",
       "<tr>\n",
       "  <th>Dep. Variable:</th>            <td>y</td>        <th>  R-squared:         </th> <td>   0.986</td>\n",
       "</tr>\n",
       "<tr>\n",
       "  <th>Model:</th>                   <td>OLS</td>       <th>  Adj. R-squared:    </th> <td>   0.982</td>\n",
       "</tr>\n",
       "<tr>\n",
       "  <th>Method:</th>             <td>Least Squares</td>  <th>  F-statistic:       </th> <td>   275.8</td>\n",
       "</tr>\n",
       "<tr>\n",
       "  <th>Date:</th>             <td>Tue, 04 Dec 2018</td> <th>  Prob (F-statistic):</th> <td>7.70e-05</td>\n",
       "</tr>\n",
       "<tr>\n",
       "  <th>Time:</th>                 <td>00:26:30</td>     <th>  Log-Likelihood:    </th> <td>  37.364</td>\n",
       "</tr>\n",
       "<tr>\n",
       "  <th>No. Observations:</th>      <td>     6</td>      <th>  AIC:               </th> <td>  -70.73</td>\n",
       "</tr>\n",
       "<tr>\n",
       "  <th>Df Residuals:</th>          <td>     4</td>      <th>  BIC:               </th> <td>  -71.14</td>\n",
       "</tr>\n",
       "<tr>\n",
       "  <th>Df Model:</th>              <td>     1</td>      <th>                     </th>     <td> </td>   \n",
       "</tr>\n",
       "<tr>\n",
       "  <th>Covariance Type:</th>      <td>nonrobust</td>    <th>                     </th>     <td> </td>   \n",
       "</tr>\n",
       "</table>\n",
       "<table class=\"simpletable\">\n",
       "<tr>\n",
       "    <td></td>       <th>coef</th>     <th>std err</th>      <th>t</th>      <th>P>|t|</th>  <th>[0.025</th>    <th>0.975]</th>  \n",
       "</tr>\n",
       "<tr>\n",
       "  <th>const</th> <td>    0.0249</td> <td>    0.002</td> <td>   13.959</td> <td> 0.000</td> <td>    0.020</td> <td>    0.030</td>\n",
       "</tr>\n",
       "<tr>\n",
       "  <th>x1</th>    <td>    0.1285</td> <td>    0.008</td> <td>   16.608</td> <td> 0.000</td> <td>    0.107</td> <td>    0.150</td>\n",
       "</tr>\n",
       "</table>\n",
       "<table class=\"simpletable\">\n",
       "<tr>\n",
       "  <th>Omnibus:</th>       <td>   nan</td> <th>  Durbin-Watson:     </th> <td>   2.411</td>\n",
       "</tr>\n",
       "<tr>\n",
       "  <th>Prob(Omnibus):</th> <td>   nan</td> <th>  Jarque-Bera (JB):  </th> <td>   0.541</td>\n",
       "</tr>\n",
       "<tr>\n",
       "  <th>Skew:</th>          <td>-0.191</td> <th>  Prob(JB):          </th> <td>   0.763</td>\n",
       "</tr>\n",
       "<tr>\n",
       "  <th>Kurtosis:</th>      <td> 1.579</td> <th>  Cond. No.          </th> <td>    34.1</td>\n",
       "</tr>\n",
       "</table><br/><br/>Warnings:<br/>[1] Standard Errors assume that the covariance matrix of the errors is correctly specified."
      ],
      "text/plain": [
       "<class 'statsmodels.iolib.summary.Summary'>\n",
       "\"\"\"\n",
       "                            OLS Regression Results                            \n",
       "==============================================================================\n",
       "Dep. Variable:                      y   R-squared:                       0.986\n",
       "Model:                            OLS   Adj. R-squared:                  0.982\n",
       "Method:                 Least Squares   F-statistic:                     275.8\n",
       "Date:                Tue, 04 Dec 2018   Prob (F-statistic):           7.70e-05\n",
       "Time:                        00:26:30   Log-Likelihood:                 37.364\n",
       "No. Observations:                   6   AIC:                            -70.73\n",
       "Df Residuals:                       4   BIC:                            -71.14\n",
       "Df Model:                           1                                         \n",
       "Covariance Type:            nonrobust                                         \n",
       "==============================================================================\n",
       "                 coef    std err          t      P>|t|      [0.025      0.975]\n",
       "------------------------------------------------------------------------------\n",
       "const          0.0249      0.002     13.959      0.000       0.020       0.030\n",
       "x1             0.1285      0.008     16.608      0.000       0.107       0.150\n",
       "==============================================================================\n",
       "Omnibus:                          nan   Durbin-Watson:                   2.411\n",
       "Prob(Omnibus):                    nan   Jarque-Bera (JB):                0.541\n",
       "Skew:                          -0.191   Prob(JB):                        0.763\n",
       "Kurtosis:                       1.579   Cond. No.                         34.1\n",
       "==============================================================================\n",
       "\n",
       "Warnings:\n",
       "[1] Standard Errors assume that the covariance matrix of the errors is correctly specified.\n",
       "\"\"\""
      ]
     },
     "execution_count": 18,
     "metadata": {},
     "output_type": "execute_result"
    }
   ],
   "source": [
    "condutividade = [0.0480, 0.0525, 0.0540, 0.0535, 0.0570, 0.0610]\n",
    "y = array(condutividade)\n",
    "densidade = [0.1750, 0.2200, 0.2250, 0.2260, 0.2500, 0.2765]\n",
    "x = array(densidade)\n",
    "X = x\n",
    "Y = y\n",
    "X = sm.add_constant(X)\n",
    "model = sm.OLS(Y, X).fit()\n",
    "model.summary()"
   ]
  },
  {
   "cell_type": "code",
   "execution_count": 19,
   "metadata": {},
   "outputs": [
    {
     "name": "stdout",
     "output_type": "stream",
     "text": [
      "A equação que relaciona densidade e condutividade termal é dada por k = 0.129*d + 0.025.\n"
     ]
    }
   ],
   "source": [
    "B0t = model.params[0]\n",
    "B1t = model.params[1]\n",
    "\n",
    "print(f'A equação que relaciona densidade e condutividade termal é dada por k = {B1t:0.3f}*d + {B0t:0.3f}.')"
   ]
  },
  {
   "cell_type": "markdown",
   "metadata": {},
   "source": [
    "<a id = \"section6.2\"></a>"
   ]
  },
  {
   "cell_type": "markdown",
   "metadata": {},
   "source": [
    "### 6.2 Regressão Múltipla\n",
    "\n",
    "A regressão múltipla é usada quando se tem mais de uma variável independente pata explicar a dependente. Ela segue o modelo\n",
    "$$\\hat{\\beta_{0}} = \\bar{y} - \\hat{\\beta_1} \\bar{x_1} - \\hat{\\beta_2} \\bar{x_2} - \\hat{\\beta_3} \\bar{x_3} - ... - \\hat{\\beta_n} \\bar{x_n} $$\n",
    "\n",
    "Para aplicá-la, podemos usar novamente a biblioteca `statsmodels`."
   ]
  },
  {
   "cell_type": "markdown",
   "metadata": {},
   "source": [
    "$\\Large \\textbf{Exemplo}$"
   ]
  },
  {
   "cell_type": "markdown",
   "metadata": {},
   "source": [
    "$\\large \\textbf{APS 8 - Exercício 2}$\n",
    "\n",
    "Os dados abaixo são provenientes de uma pesquisa de satisfação aplicada em um hospital.\n",
    "\n",
    "|Observation| Age| Severity| Surg_Med| Anxiety| Satisfaction|\n",
    "|---|---|---|---|---|---|\n",
    "|1|55|50| 0| 2.1| 68|\n",
    "|2|46|24| 1| 2.8| 77|\n",
    "|3|30|46| 1| 3.3| 96|\n",
    "|4|35|48| 1| 4.5| 80|\n",
    "|5|59|58| 0| 2.0| 43|\n",
    "|6|61|60| 0| 5.1| 44|\n",
    "|7|74|65| 1| 5.5| 26|\n",
    "|8|38|42| 1| 3.2| 88|\n",
    "|9 |27|42| 0| 3.1| 75|\n",
    "|10|51|50 |1 |2.4 |57 |\n",
    "|11|53|38 |1 |2.2 |56|\n",
    "|12|41|30 |0 |2.1 |88|\n",
    "|13|37|31 |0 |1.9 |88|\n",
    "|14|24|34 |0 |3.1 |102|\n",
    "|15|42|30 |0 |3.0 |88|\n",
    "|16|50|48 |1 |4.2 |70|\n",
    "|17|58|61 |1 |4.6 |52|\n",
    "|18|60|71 |1 |5.3 |43|\n",
    "|19|62|62 |0 |7.2 |46|\n",
    "|20|68|38 |0 |7.8 |56|\n",
    "|21|70|41 |1 |7.0 |59|\n",
    "|22|79|66 |1 |6.2 |26|\n",
    "|23|63|31 |1 |4.1 |52|\n",
    "|24|39|42 |0 |3.5 |83|\n",
    "|25|49|40 |1 |2.1 |75|\n",
    "\n",
    "As variáveis são:\n",
    "\n",
    "* `Age` - a idade do paciente\n",
    "* `Severity` - quão severa é a condição. Valores mais altos indicam condição mais preocupante\n",
    "* `Surg-Med` - Indica se é um paciente de visita ao médico `0` ou cirurgia `1`\n",
    "* `Anxiety` - Índice de ansiedade. Valores mais elevados indicam maior ansiedade\n",
    "\n",
    "Pede-se:\n",
    "\n",
    "**a.** Encontre um modelo de regressão linear múltipla capaz de prever `Satisfaction` a partir da idade, severidade da condição e índice de ansiedade. Escreva a equação."
   ]
  },
  {
   "cell_type": "code",
   "execution_count": 20,
   "metadata": {},
   "outputs": [
    {
     "data": {
      "text/html": [
       "<table class=\"simpletable\">\n",
       "<caption>OLS Regression Results</caption>\n",
       "<tr>\n",
       "  <th>Dep. Variable:</th>      <td>Satisfaction</td>   <th>  R-squared:         </th> <td>   0.904</td>\n",
       "</tr>\n",
       "<tr>\n",
       "  <th>Model:</th>                   <td>OLS</td>       <th>  Adj. R-squared:    </th> <td>   0.890</td>\n",
       "</tr>\n",
       "<tr>\n",
       "  <th>Method:</th>             <td>Least Squares</td>  <th>  F-statistic:       </th> <td>   65.55</td>\n",
       "</tr>\n",
       "<tr>\n",
       "  <th>Date:</th>             <td>Tue, 04 Dec 2018</td> <th>  Prob (F-statistic):</th> <td>7.85e-11</td>\n",
       "</tr>\n",
       "<tr>\n",
       "  <th>Time:</th>                 <td>00:26:30</td>     <th>  Log-Likelihood:    </th> <td> -82.074</td>\n",
       "</tr>\n",
       "<tr>\n",
       "  <th>No. Observations:</th>      <td>    25</td>      <th>  AIC:               </th> <td>   172.1</td>\n",
       "</tr>\n",
       "<tr>\n",
       "  <th>Df Residuals:</th>          <td>    21</td>      <th>  BIC:               </th> <td>   177.0</td>\n",
       "</tr>\n",
       "<tr>\n",
       "  <th>Df Model:</th>              <td>     3</td>      <th>                     </th>     <td> </td>   \n",
       "</tr>\n",
       "<tr>\n",
       "  <th>Covariance Type:</th>      <td>nonrobust</td>    <th>                     </th>     <td> </td>   \n",
       "</tr>\n",
       "</table>\n",
       "<table class=\"simpletable\">\n",
       "<tr>\n",
       "      <td></td>        <th>coef</th>     <th>std err</th>      <th>t</th>      <th>P>|t|</th>  <th>[0.025</th>    <th>0.975]</th>  \n",
       "</tr>\n",
       "<tr>\n",
       "  <th>const</th>    <td>  143.8952</td> <td>    5.898</td> <td>   24.399</td> <td> 0.000</td> <td>  131.631</td> <td>  156.160</td>\n",
       "</tr>\n",
       "<tr>\n",
       "  <th>Age</th>      <td>   -1.1135</td> <td>    0.133</td> <td>   -8.398</td> <td> 0.000</td> <td>   -1.389</td> <td>   -0.838</td>\n",
       "</tr>\n",
       "<tr>\n",
       "  <th>Anxiety</th>  <td>    1.2962</td> <td>    1.056</td> <td>    1.227</td> <td> 0.233</td> <td>   -0.900</td> <td>    3.492</td>\n",
       "</tr>\n",
       "<tr>\n",
       "  <th>Severity</th> <td>   -0.5849</td> <td>    0.132</td> <td>   -4.430</td> <td> 0.000</td> <td>   -0.860</td> <td>   -0.310</td>\n",
       "</tr>\n",
       "</table>\n",
       "<table class=\"simpletable\">\n",
       "<tr>\n",
       "  <th>Omnibus:</th>       <td> 4.204</td> <th>  Durbin-Watson:     </th> <td>   2.105</td>\n",
       "</tr>\n",
       "<tr>\n",
       "  <th>Prob(Omnibus):</th> <td> 0.122</td> <th>  Jarque-Bera (JB):  </th> <td>   2.444</td>\n",
       "</tr>\n",
       "<tr>\n",
       "  <th>Skew:</th>          <td>-0.672</td> <th>  Prob(JB):          </th> <td>   0.295</td>\n",
       "</tr>\n",
       "<tr>\n",
       "  <th>Kurtosis:</th>      <td> 3.733</td> <th>  Cond. No.          </th> <td>    296.</td>\n",
       "</tr>\n",
       "</table><br/><br/>Warnings:<br/>[1] Standard Errors assume that the covariance matrix of the errors is correctly specified."
      ],
      "text/plain": [
       "<class 'statsmodels.iolib.summary.Summary'>\n",
       "\"\"\"\n",
       "                            OLS Regression Results                            \n",
       "==============================================================================\n",
       "Dep. Variable:           Satisfaction   R-squared:                       0.904\n",
       "Model:                            OLS   Adj. R-squared:                  0.890\n",
       "Method:                 Least Squares   F-statistic:                     65.55\n",
       "Date:                Tue, 04 Dec 2018   Prob (F-statistic):           7.85e-11\n",
       "Time:                        00:26:30   Log-Likelihood:                -82.074\n",
       "No. Observations:                  25   AIC:                             172.1\n",
       "Df Residuals:                      21   BIC:                             177.0\n",
       "Df Model:                           3                                         \n",
       "Covariance Type:            nonrobust                                         \n",
       "==============================================================================\n",
       "                 coef    std err          t      P>|t|      [0.025      0.975]\n",
       "------------------------------------------------------------------------------\n",
       "const        143.8952      5.898     24.399      0.000     131.631     156.160\n",
       "Age           -1.1135      0.133     -8.398      0.000      -1.389      -0.838\n",
       "Anxiety        1.2962      1.056      1.227      0.233      -0.900       3.492\n",
       "Severity      -0.5849      0.132     -4.430      0.000      -0.860      -0.310\n",
       "==============================================================================\n",
       "Omnibus:                        4.204   Durbin-Watson:                   2.105\n",
       "Prob(Omnibus):                  0.122   Jarque-Bera (JB):                2.444\n",
       "Skew:                          -0.672   Prob(JB):                        0.295\n",
       "Kurtosis:                       3.733   Cond. No.                         296.\n",
       "==============================================================================\n",
       "\n",
       "Warnings:\n",
       "[1] Standard Errors assume that the covariance matrix of the errors is correctly specified.\n",
       "\"\"\""
      ]
     },
     "execution_count": 20,
     "metadata": {},
     "output_type": "execute_result"
    }
   ],
   "source": [
    "d = pd.read_csv(\"tabela_pacientes.csv\")\n",
    "df = pd.DataFrame(data=d)\n",
    "\n",
    "varind = df[['Age','Anxiety','Severity']]\n",
    "varind = sm.add_constant(varind)\n",
    "vardep = df[['Satisfaction']]\n",
    "modelo = sm.OLS(vardep, varind).fit()\n",
    "predictions = modelo.predict(varind)\n",
    "modelo.summary()"
   ]
  },
  {
   "cell_type": "markdown",
   "metadata": {},
   "source": [
    "<a id = \"section6.3\"></a>"
   ]
  },
  {
   "cell_type": "markdown",
   "metadata": {},
   "source": [
    "### 6.3 Dados da tabela\n",
    "\n",
    "Pode-se notar que pudemos obter os coeficientes da equação obtida pela regressão pela tabela. Mas e os outros valores? O que indicam?\n",
    "\n",
    "#### Prob(F-Statistic)\n",
    "\n",
    "A $Prob(F-statistic)$ representa a probabilidade de todos os coeficientes do modelo serem iguais a zero. Quanto menor este valor for, menor a probabilidade.\n",
    "\n",
    "#### P > |t|\n",
    "\n",
    "$P > |t|$ indica o valor P da variável analisada, de modo que se este valor P for muito baixo, rejeita-se a hipótese $H_0: \\hat{B_x} = 0$.\n",
    "\n",
    "#### Pr(Omnibus) e Pr(JB)\n",
    "\n",
    "Os valores $Pr(Omnibus)$ e $Pr(JB)$ indicam a probabilidade de que os erros residuais sigam uma distribuição normal. Visa-se no geral que estes valores estejam próximos de 1, uma vez que a regressão tem como base que os erros residuais seguem uma distribuição normal."
   ]
  },
  {
   "cell_type": "markdown",
   "metadata": {},
   "source": [
    "[Voltar para o sumário](#topo)"
   ]
  },
  {
   "cell_type": "markdown",
   "metadata": {},
   "source": [
    "<a id = \"links\"></a>"
   ]
  },
  {
   "cell_type": "markdown",
   "metadata": {},
   "source": [
    "## Links adicionais\n",
    "\n",
    "* Markdown cheatsheet - https://github.com/tchapi/markdown-cheatsheet\n",
    "* Omnibus test - https://en.wikipedia.org/wiki/Omnibus_test, https://stats.stackexchange.com/questions/59891/understanding-the-definition-of-omnibus-tests\n",
    "* Why you need to check your residual plots - http://blog.minitab.com/blog/adventures-in-statistics-2/why-you-need-to-check-your-residual-plots-for-regression-analysis\n",
    "* Interpreting results from linear regression - https://www.accelebrate.com/blog/interpreting-results-from-linear-regression-is-the-data-appropriate/, http://blog.minitab.com/blog/adventures-in-statistics-2/how-to-interpret-regression-analysis-results-p-values-and-coefficients, http://www.nlreg.com/results.htm\n",
    "* Why do residuals need to be normal when using multi level modeling - https://www.researchgate.net/post/Why_do_the_residuals_need_to_be_normal_when_carrying_out_multi_level_modeling\n",
    "* Documentação probplot - https://docs.scipy.org/doc/scipy-0.14.0/reference/generated/scipy.stats.probplot.html\n",
    "* Exemplo de regressão - https://www.statsmodels.org/dev/examples/notebooks/generated/regression_diagnostics.html\n",
    "* Documentação statsmodels - https://www.statsmodels.org/stable/index.html"
   ]
  },
  {
   "cell_type": "markdown",
   "metadata": {},
   "source": [
    "## Bibliografia\n",
    "\n",
    "* Slides de aula\n",
    "* Estatística Aplicada e Probabilidade para Engenheiros\n",
    "* Noções de Probabilidade e Estatística"
   ]
  }
 ],
 "metadata": {
  "kernelspec": {
   "display_name": "Python 3",
   "language": "python",
   "name": "python3"
  },
  "language_info": {
   "codemirror_mode": {
    "name": "ipython",
    "version": 3
   },
   "file_extension": ".py",
   "mimetype": "text/x-python",
   "name": "python",
   "nbconvert_exporter": "python",
   "pygments_lexer": "ipython3",
   "version": "3.6.7"
  }
 },
 "nbformat": 4,
 "nbformat_minor": 2
}
