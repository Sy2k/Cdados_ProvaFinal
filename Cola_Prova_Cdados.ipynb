{
 "cells": [
  {
   "cell_type": "markdown",
   "metadata": {},
   "source": [
    "# Prova Final - Cdados 2019.2"
   ]
  },
  {
   "cell_type": "code",
   "execution_count": 4,
   "metadata": {},
   "outputs": [],
   "source": [
    "# ------------ bibliotecas ------------\n",
    "import matplotlib.pyplot as plt\n",
    "import numpy as np\n",
    "import pandas as pd\n",
    "from scipy import stats\n",
    "%matplotlib inline\n",
    "\n",
    "from scipy.stats import probplot, t, norm # Norm não foi usada :(\n",
    "from math import sqrt\n",
    "%matplotlib inline\n",
    "\n",
    "import statsmodels.api as sm\n"
   ]
  },
  {
   "cell_type": "markdown",
   "metadata": {},
   "source": [
    "---\n",
    "# Encontrando $\\hat{\\beta_{1}}$ e $\\hat{\\beta_{0}}$\n",
    "## Formula:\n",
    "* $\\hat{\\beta_{0}}$:\n",
    "$$\\hat{\\beta_{0}} = \\bar{y} - \\hat{\\beta_1} \\bar{x}$$\n",
    "\n",
    "* $\\hat{\\beta_{1}}$:\n",
    "\n",
    "$$\\hat{\\beta_1}= \\frac{\\sum\\limits_{i=1}^{n}(x_{i}-\\bar{x})(y_{i}-\\bar{y})}{\\sum\\limits_{i=1}^{n}(x_{i}-\\bar{x})^2} = \\frac{S_{xy}}{S_{xx}} $$\n",
    "\n",
    "Fórmula alternativa que pode ser útil:\n",
    "\n",
    "\n",
    "$$\\hat{\\beta}_1 = \\frac{Cov(X,Y)}{Var(X)}$$\n",
    "\n",
    "---"
   ]
  },
  {
   "cell_type": "code",
   "execution_count": 5,
   "metadata": {},
   "outputs": [],
   "source": [
    "#Caso tenha duas listas transformar em um array pra fazer calculos futuros\n",
    "valor_x = [1, 51, 13, 41,21,123]\n",
    "valor_y = [1, 51, 13, 41,21,123]\n",
    "\n",
    "x = np.array(valor_x)\n",
    "y = np.array(valor_y)\n",
    "\n",
    "x_ = np.mean(x)\n",
    "y_ = np.mean(y)"
   ]
  },
  {
   "cell_type": "code",
   "execution_count": 6,
   "metadata": {},
   "outputs": [
    {
     "name": "stdout",
     "output_type": "stream",
     "text": [
      "Valor de Beta1:  1.0\n",
      "Valor de Beta0:  40.666666666666664\n"
     ]
    }
   ],
   "source": [
    "Sxy = np.sum((x - x_)*(y - y_)) # note que as operações são feitas em cada elemento dos arrays x e y\n",
    "Sxx = np.sum((x-x_)**2)\n",
    "beta_1 = Sxy/Sxx\n",
    "beta_zero = y_ - beta_1\n",
    "print(\"Valor de Beta1: \",beta_1)\n",
    "print(\"Valor de Beta0: \",beta_zero)"
   ]
  },
  {
   "cell_type": "markdown",
   "metadata": {},
   "source": [
    "---\n",
    "# Fazendo uma regressão linear simples \n",
    "\n",
    "---"
   ]
  },
  {
   "cell_type": "code",
   "execution_count": 11,
   "metadata": {
    "scrolled": true
   },
   "outputs": [
    {
     "name": "stderr",
     "output_type": "stream",
     "text": [
      "C:\\Users\\liu\\Anaconda3\\lib\\site-packages\\statsmodels\\stats\\stattools.py:71: ValueWarning: omni_normtest is not valid with less than 8 observations; 6 samples were given.\n",
      "  \"samples were given.\" % int(n), ValueWarning)\n"
     ]
    },
    {
     "data": {
      "text/html": [
       "<table class=\"simpletable\">\n",
       "<caption>OLS Regression Results</caption>\n",
       "<tr>\n",
       "  <th>Dep. Variable:</th>            <td>y</td>        <th>  R-squared:         </th> <td>   1.000</td> \n",
       "</tr>\n",
       "<tr>\n",
       "  <th>Model:</th>                   <td>OLS</td>       <th>  Adj. R-squared:    </th> <td>   1.000</td> \n",
       "</tr>\n",
       "<tr>\n",
       "  <th>Method:</th>             <td>Least Squares</td>  <th>  F-statistic:       </th> <td>1.845e+32</td>\n",
       "</tr>\n",
       "<tr>\n",
       "  <th>Date:</th>             <td>Sun, 24 Nov 2019</td> <th>  Prob (F-statistic):</th> <td>1.76e-64</td> \n",
       "</tr>\n",
       "<tr>\n",
       "  <th>Time:</th>                 <td>13:26:52</td>     <th>  Log-Likelihood:    </th> <td>  188.08</td> \n",
       "</tr>\n",
       "<tr>\n",
       "  <th>No. Observations:</th>      <td>     6</td>      <th>  AIC:               </th> <td>  -372.2</td> \n",
       "</tr>\n",
       "<tr>\n",
       "  <th>Df Residuals:</th>          <td>     4</td>      <th>  BIC:               </th> <td>  -372.6</td> \n",
       "</tr>\n",
       "<tr>\n",
       "  <th>Df Model:</th>              <td>     1</td>      <th>                     </th>     <td> </td>    \n",
       "</tr>\n",
       "<tr>\n",
       "  <th>Covariance Type:</th>      <td>nonrobust</td>    <th>                     </th>     <td> </td>    \n",
       "</tr>\n",
       "</table>\n",
       "<table class=\"simpletable\">\n",
       "<tr>\n",
       "    <td></td>       <th>coef</th>     <th>std err</th>      <th>t</th>      <th>P>|t|</th>  <th>[0.025</th>    <th>0.975]</th>  \n",
       "</tr>\n",
       "<tr>\n",
       "  <th>const</th> <td>-5.329e-15</td> <td> 4.25e-15</td> <td>   -1.253</td> <td> 0.278</td> <td>-1.71e-14</td> <td> 6.48e-15</td>\n",
       "</tr>\n",
       "<tr>\n",
       "  <th>x1</th>    <td>    1.0000</td> <td> 7.36e-17</td> <td> 1.36e+16</td> <td> 0.000</td> <td>    1.000</td> <td>    1.000</td>\n",
       "</tr>\n",
       "</table>\n",
       "<table class=\"simpletable\">\n",
       "<tr>\n",
       "  <th>Omnibus:</th>       <td>   nan</td> <th>  Durbin-Watson:     </th> <td>   0.288</td>\n",
       "</tr>\n",
       "<tr>\n",
       "  <th>Prob(Omnibus):</th> <td>   nan</td> <th>  Jarque-Bera (JB):  </th> <td>   2.062</td>\n",
       "</tr>\n",
       "<tr>\n",
       "  <th>Skew:</th>          <td>-1.414</td> <th>  Prob(JB):          </th> <td>   0.357</td>\n",
       "</tr>\n",
       "<tr>\n",
       "  <th>Kurtosis:</th>      <td> 3.500</td> <th>  Cond. No.          </th> <td>    83.4</td>\n",
       "</tr>\n",
       "</table><br/><br/>Warnings:<br/>[1] Standard Errors assume that the covariance matrix of the errors is correctly specified."
      ],
      "text/plain": [
       "<class 'statsmodels.iolib.summary.Summary'>\n",
       "\"\"\"\n",
       "                            OLS Regression Results                            \n",
       "==============================================================================\n",
       "Dep. Variable:                      y   R-squared:                       1.000\n",
       "Model:                            OLS   Adj. R-squared:                  1.000\n",
       "Method:                 Least Squares   F-statistic:                 1.845e+32\n",
       "Date:                Sun, 24 Nov 2019   Prob (F-statistic):           1.76e-64\n",
       "Time:                        13:26:52   Log-Likelihood:                 188.08\n",
       "No. Observations:                   6   AIC:                            -372.2\n",
       "Df Residuals:                       4   BIC:                            -372.6\n",
       "Df Model:                           1                                         \n",
       "Covariance Type:            nonrobust                                         \n",
       "==============================================================================\n",
       "                 coef    std err          t      P>|t|      [0.025      0.975]\n",
       "------------------------------------------------------------------------------\n",
       "const      -5.329e-15   4.25e-15     -1.253      0.278   -1.71e-14    6.48e-15\n",
       "x1             1.0000   7.36e-17   1.36e+16      0.000       1.000       1.000\n",
       "==============================================================================\n",
       "Omnibus:                          nan   Durbin-Watson:                   0.288\n",
       "Prob(Omnibus):                    nan   Jarque-Bera (JB):                2.062\n",
       "Skew:                          -1.414   Prob(JB):                        0.357\n",
       "Kurtosis:                       3.500   Cond. No.                         83.4\n",
       "==============================================================================\n",
       "\n",
       "Warnings:\n",
       "[1] Standard Errors assume that the covariance matrix of the errors is correctly specified.\n",
       "\"\"\""
      ]
     },
     "execution_count": 11,
     "metadata": {},
     "output_type": "execute_result"
    }
   ],
   "source": [
    "def regress(X,Y):\n",
    "    X_cp = sm.add_constant(X)\n",
    "    model = sm.OLS(Y,X_cp)\n",
    "    results = model.fit()\n",
    "    return results\n",
    "\n",
    "reg = regress(x, y) # DESCOMENTE a linha para funcionar\n",
    "reg.summary() # DESCOMENTE a linha"
   ]
  },
  {
   "cell_type": "code",
   "execution_count": 14,
   "metadata": {},
   "outputs": [
    {
     "name": "stdout",
     "output_type": "stream",
     "text": [
      "Betas do Statsmodels - Beta 0: -5.329070518200751e-15   Beta 1 1.0:\n"
     ]
    }
   ],
   "source": [
    "beta0s = reg.params[0] # como acessar o beta 0 calculado\n",
    "beta1s = reg.params[1] # como acessar o beta 1 e assim por diante\n",
    "print(\"Betas do Statsmodels - Beta 0: {:}   Beta 1 {:}:\".format(beta0s, beta1s))"
   ]
  },
  {
   "cell_type": "markdown",
   "metadata": {},
   "source": [
    "---\n",
    "# Como analisar a regressão linear\n",
    "* *$R^2$:* Este valor é uma medida de ajustamento de um modelo estatístico linear generalizado varia entre 0 e 1, indicando, em percentagem, o quanto o modelo consegue explicar os valores observados. Quanto maior o R², mais explicativo é o modelo, melhor ele se ajusta à amostra.\n",
    "* **Coef:** são os coeficientes da regressão linear, o **coef const** é o H0\n",
    "* **Pvalue:** Este valor varia de 0 a 1, quanto mais proximo do 0 mais correlacionado são os dados\n",
    "* **Omnibus:** \n",
    "\n",
    "---"
   ]
  },
  {
   "cell_type": "markdown",
   "metadata": {},
   "source": [
    "# $SS_E$ \n",
    "* (SQRes) A soma dos quadrados dos resíduos\n",
    "$$SQRes=SS_{E}=\\sum\\limits^{n}_{i=1}(y_i-\\hat{y}_i)^2=\\sum\\limits_{i=1}^{n}\\epsilon^2_{i}$$\n",
    "\n",
    "\n",
    "# $SQT$\n",
    "* Também chamado de $SS_T$ no livro, que é a **soma dos quadrados totais**:\n",
    "$$SQT=SS_{T}=\\sum\\limits^{n}_{i=1}(y_i-\\bar{y})^2$$\n"
   ]
  },
  {
   "cell_type": "code",
   "execution_count": null,
   "metadata": {},
   "outputs": [],
   "source": []
  }
 ],
 "metadata": {
  "kernelspec": {
   "display_name": "Python 3",
   "language": "python",
   "name": "python3"
  },
  "language_info": {
   "codemirror_mode": {
    "name": "ipython",
    "version": 3
   },
   "file_extension": ".py",
   "mimetype": "text/x-python",
   "name": "python",
   "nbconvert_exporter": "python",
   "pygments_lexer": "ipython3",
   "version": "3.7.4"
  }
 },
 "nbformat": 4,
 "nbformat_minor": 2
}
