{
 "cells": [
  {
   "cell_type": "markdown",
   "metadata": {},
   "source": [
    "# Socrative\n"
   ]
  },
  {
   "cell_type": "markdown",
   "metadata": {},
   "source": [
    "---\n",
    "# Socrative\n",
    "# Pergunta 1\n",
    "\n",
    "* $E_X1 = 5$\n",
    "* $V_Z1 = 100$\n",
    "* $Antes = Y = X1+X2$\n",
    "* $depois = W =2X1 $\n",
    "* $E(Y) = E(X1)+E(X2) = 10$ \n",
    "* $Var(Y) = Var(X1)+ Var(X2) = 200$\n",
    "* $E(W) = E(2X1) = 2E(X1)$\n",
    "* $V(W) = 4Var(X1) = 400$\n",
    "\n",
    "* Logo a Variabilidade aumenta e não mudaria o processo\n",
    "\n",
    "---\n"
   ]
  },
  {
   "cell_type": "markdown",
   "metadata": {},
   "source": [
    "* $E_X1 = 5$\n",
    "* $V_Z1 = 100$\n",
    "* $Antes = Y = X1+X2$\n",
    "* $depois = W =2X1 $\n",
    "* $E(Y) = E(X1)+E(X2) = 10$ \n",
    "* $Var(Y) = Var(X1)+ Var(X2) = 200$\n",
    "* $E(W) = E(2X1) = 2E(X1)$\n",
    "* $V(W) = 4Var(X1) = 400$\n",
    "\n",
    "* Logo a Variabilidade aumenta e não mudaria o processo"
   ]
  },
  {
   "cell_type": "code",
   "execution_count": null,
   "metadata": {},
   "outputs": [],
   "source": []
  }
 ],
 "metadata": {
  "kernelspec": {
   "display_name": "Python 3",
   "language": "python",
   "name": "python3"
  },
  "language_info": {
   "codemirror_mode": {
    "name": "ipython",
    "version": 3
   },
   "file_extension": ".py",
   "mimetype": "text/x-python",
   "name": "python",
   "nbconvert_exporter": "python",
   "pygments_lexer": "ipython3",
   "version": "3.7.4"
  }
 },
 "nbformat": 4,
 "nbformat_minor": 2
}
