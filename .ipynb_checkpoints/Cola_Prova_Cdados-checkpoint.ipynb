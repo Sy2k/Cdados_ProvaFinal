{
 "cells": [
  {
   "cell_type": "markdown",
   "metadata": {},
   "source": [
    "----\n",
    "# Prova Final - Cdados 2019.2\n",
    "* **Aula 20** - Combinação de variavel \n",
    "* **Aula 21** - Teorema Central do Limite\n",
    "* **Aula 23** - Teste de hipotese \n",
    "* **Aula 24** - T de student\n",
    "* **Aula 25** - Regressão linear\n",
    "----"
   ]
  },
  {
   "cell_type": "code",
   "execution_count": 29,
   "metadata": {},
   "outputs": [],
   "source": [
    "# ------------ bibliotecas ------------\n",
    "import matplotlib.pyplot as plt\n",
    "import numpy as np\n",
    "import pandas as pd\n",
    "from scipy import stats\n",
    "%matplotlib inline\n",
    "\n",
    "from scipy.stats import probplot, t, norm,uniform\n",
    "from math import sqrt\n",
    "%matplotlib inline\n",
    "\n",
    "import statsmodels.api as sm\n",
    "# -------------------------------------"
   ]
  },
  {
   "cell_type": "markdown",
   "metadata": {},
   "source": [
    "----\n",
    "# Combinações de variáveis aleatórias\n",
    "\n",
    "\n",
    "Lembremos que:\n",
    "\n",
    "Se $f(x)$ for uma função de densidade de probabilidade contínua\n",
    "\n",
    "$\\mu = E(X) = \\int_{-\\infty}^{\\infty}x f(x) dx$\n",
    "\n",
    "E que a variância:\n",
    "\n",
    "$V(X) = \\int_{-\\infty}^{\\infty}(x - \\mu)^2f(x) dx$\n",
    "\n",
    "E que ainda vale a propriedade:\n",
    "\n",
    "$V(X) = E(X^2) - E(X)^2 = E(X^2) - \\mu^2$\n",
    "\n",
    "## Propriedades da esperança\n",
    "\n",
    "Lembremos da aula 08 que, para o valor esperado ou esperança, vale, se $c$ e $d$ forem constantes:\n",
    "\n",
    "$E(X+d) = E(X) + d$\n",
    "\n",
    "$E(cX) = cE(X)$\n",
    "\n",
    "Combinando as expressões acima:\n",
    "\n",
    "$E(cX + d) = cE(X) + d$\n",
    "\n",
    "E para a variância vale:\n",
    "\n",
    "$V(X+d) = V(X)$\n",
    "\n",
    "$V(cX) = c^2V(X)$\n",
    "\n",
    "$V(cX + d) = c^2V(X)$\n",
    "\n",
    "## Propriedades de combinações de variáveis aleatórias\n",
    "\n",
    "### Propriedades da esperança\n",
    "\n",
    "Sejam $a$ e $b$ constantes e $X$  e $Y$ variáveis aleatórias\n",
    "\n",
    "$E(X + Y) = E(X) + E(Y)$\n",
    "\n",
    "$E(aX + bY) = aE(X) + bE(Y)$\n",
    "\n",
    "Estes resultados são sempre válidos, sejam $X$  e $Y$ dependentes ou independentes \n",
    "\n",
    "### Propriedades da variância\n",
    "\n",
    "Sejam $X$  e $Y$ variáveis aleatórias\n",
    "\n",
    "$V(X+Y) = V(X) + V(Y) + 2Cov(X,Y)$\n",
    "\n",
    "$V(X-Y) = V(X) + V(Y) -2Cov(X,Y)$\n",
    "\n",
    "Sendo que, como visto nas aulas de análise bidimensional, a covariância é definida como:\n",
    "\n",
    "\n",
    "$Cov(X,Y) = E[(X-\\mu_X))(Y-\\mu_Y)] = E(XY) - \\mu_X\\mu_Y$\n",
    "\n",
    "Dado que $\\mu_X = E(X)$ e $\\mu_Y = E(Y)$\n",
    "\n",
    "### Variáveis independentes\n",
    "\n",
    "$X$ e $Y$  independentes $\\implies Cov(X,Y)=0$\n",
    "\n",
    "Entretanto:\n",
    "\n",
    "$Cov(X,Y) =0$ $\\nRightarrow$ $X$ e $Y$  independentes\n",
    "\n",
    "Se as variáveis $X$ e $Y$ forem independentes:\n",
    "\n",
    "$V(X+Y) = V(X) + V(Y)$\n",
    "\n",
    "$V(X-Y) = V(X) + V(Y)$\n",
    "\n",
    "\n",
    "$E(X)E(Y) = \\mu_X\\mu_Y$\n",
    "\n",
    "\n",
    "$Cov(X,Y) = E(XY) - \\mu_X\\mu_Y$\n",
    "\n",
    "\n",
    "### Variância com coeficientes:\n",
    "\n",
    "Sejam $a$ e $b$ constantes e $X$ e $Y$ variáveis aleatórias:\n",
    "\n",
    "$V(aX + bY) = a^2 V(X) + b^2 V(Y) + 2ab Cov(X,Y)$\n",
    "\n",
    "$V(aX - bY) = a^2 V(X) + b^2 V(Y) - 2ab Cov(X,Y)$\n",
    "\n",
    "Se as variáveis $X$ e $Y$ forem independentes:\n",
    "\n",
    "$V(aX+bY) = a^2V(X) + b^2V(Y)$\n",
    "\n",
    "$V(aX-bY) = a^2V(X) + b^2V(Y)$\n",
    "\n",
    "\n",
    "### Exemplo - soma de v.a\n",
    "\n",
    "Um semicondutor tem 3 camadas. Supondo que as variâncias de espessura da primeira, segunda e terceira camada sejam 25, 40 e 30 $nm^2$, respectivamente, e que as espessuras sejam independentes, qual é o desvio padrão da espessura do produto final?\n",
    "\n",
    "Sejam $X_1$, $X_2$ e $X_3$ as variáveis aleatórias que denotam as espessuras.\n",
    "\n",
    "Então: \n",
    "\n",
    "$X = X_1 + X_2 + X_3$\n",
    "\n",
    "Temos então que:\n",
    "\n",
    "$V(X)=V(X_1)+V(X_2)+V(X_3) = 95 nm^2$\n",
    "\n",
    "Consequentemente, o desvio padrão do produto final é: $9.747 nm$\n",
    "\n",
    "\n",
    "\n",
    "### Média e variância de uma média\n",
    "\n",
    "Seja $\\overline{X} = (X_1 + X_2 + \\cdots + X_n)/n$, com $E(X_i) = \\mu$ para todo $i=1,2,\\cdots, n$\n",
    "\n",
    "Temos que $E(\\overline{X}) = \\mu$\n",
    "\n",
    "Se $X_1, X_2, \\cdots, X_n$ forem indepententes com  $V(X_i) = \\sigma^2$ para todo $i=1,2,\\cdots, n$, temos:\n",
    "\n",
    "$V(\\overline{X}) = \\frac{\\sigma^2}{n}$\n",
    "\n",
    "\n",
    "## Propriedade reprodutiva da normal\n",
    "\n",
    "\n",
    "Sejam $X_1, X_2, \\cdots, X_n$   variáveis aleatórias normais com $E(X_i) = \\mu_i$ e $V(X_i) = \\sigma_i^2$, para $i=1,2,\\cdots, n$\n",
    "\n",
    "Então:\n",
    "\n",
    "$Y = c_1X_1 + c_2X_2 + \\cdots + c_nX_n$ **será uma variável aleatória normal**, com $E(Y)$ e $V(Y)$ definidos conforme\n",
    "\n",
    "$$E(Y) = c_1\\mu_1 + c_2\\mu_2 + \\cdots + c_n\\mu_n$$\n",
    "\n",
    "$$V(Y) = c_1^2\\sigma_1^2 + c_2^2\\sigma_2^2 + \\cdots + c_n^2\\sigma_n^2$$\n",
    "\n",
    "---"
   ]
  },
  {
   "cell_type": "markdown",
   "metadata": {},
   "source": [
    "\n",
    "##  RESUMO\n",
    "## Esperança\n",
    "* **Previsão teórica**\n",
    "$$E(Z)=E(X+Y)=E(X)+E(Y)$$\n",
    "\n",
    "### Variância \n",
    "\n",
    "* **Previsão teórica da variância**\n",
    "$$Var(X+Y) = Var(X) + Var(Y) + 2 \\cdot Cov(X,Y)$$\n",
    "\n"
   ]
  },
  {
   "cell_type": "markdown",
   "metadata": {},
   "source": [
    "----\n",
    "## Estatísticas e distribuições amostrais\n",
    "\n",
    "Uma **estatística** é qualquer função baseada nas observações de uma amostra aleatória. Usamos estatísticas quando, para fins práticos, não é possível ter acesso a toda uma população.\n",
    "\n",
    "A distribuição de probabilidades de uma estatística é chamada de *distribuição amostral*.\n",
    "\n",
    "## Distribuição amostral da Média $\\overline{X}$\n",
    "\n",
    "\n",
    "Sejam:\n",
    "\n",
    "$X_1, X_2, \\ldots, X_n$ amostras aleatórias de $X$ de tamanho $n$, a distribuição de $\\overline{X}$ é definida como:\n",
    "\n",
    "$$\\overline{X} = \\frac{X_1 + X_2 + X_3 + \\cdots + X_n}{n}$$\n",
    "\n",
    "É chamada *Média Amostral*!\n",
    "\n",
    "Pode-se caracterizar a distribuição amostral da média com os seguintes valores:\n",
    "\n",
    "* Média de $\\overline{X}$:\n",
    "\n",
    "$$\\mu_{\\overline{X}} = E(\\overline{X})=\\frac{\\mu + \\mu + \\cdots + \\mu}{n} = \\mu$$\n",
    "\n",
    "* Variância de $\\overline{X}$:\n",
    "\n",
    "\n",
    "$$\\sigma^2_{\\overline{X}} = Var(\\overline{X})=\\frac{\\sigma^2 + \\sigma^2 + \\cdots + \\sigma^2}{n^2} = \\frac{\\sigma^2}{n}$$\n",
    "\n",
    "## Teorema  Central do Limite\n",
    "\n",
    "Se $X_1, X_2, \\cdots, X_n$ é uma amostra aleatória de tamanho $n$ extraída de uma população com média $\\mu$ e variância $\\sigma^2$ e $\\overline{X}$ é a distribuição da média amostral, a forma limite da distribuição:\n",
    "\n",
    "$$Z = \\frac{\\overline{X} - \\mu}{\\sigma/\\sqrt{n}}$$\n",
    "\n",
    "é a **distribuição normal padrão**, à medida que $n  \\rightarrow \\infty$.\n",
    "\n",
    "---"
   ]
  },
  {
   "cell_type": "code",
   "execution_count": 4,
   "metadata": {},
   "outputs": [],
   "source": [
    "# AULA TLC \n",
    "#CDF: QUEREMOS A PROBABILIDADE\n",
    "#PPF: queremos o ponto \n"
   ]
  },
  {
   "cell_type": "markdown",
   "metadata": {},
   "source": [
    "---\n",
    "# Fórmulas:\n",
    "* **Esperança**:\n",
    "\n",
    "* **Variância esperada**:\n",
    "$$Var(Ax+by)=a^2V(x)+b^2V(y)+2abCov(X,Y)$$\n",
    "\n",
    "\n",
    "*  **Fórmula de padronização da normal de uma distribuição amostral**\n",
    "\n",
    "    $$Z = \\frac{(\\bar{X}-u)}{\\frac{desviopadrão}{n^(1/2)}}$$\n",
    "    * Gama seria a certeza que queremos \n",
    "    * o Z seria os dois pontos que cerca a média \n",
    "        * $-Z_(\\frac{gama}{2})$ e $ponto +Z_(\\frac{gama}{2})$\n",
    "         * em que $z_{\\gamma/2}$ é o valor $z$ na normal padrão que delimita de forma simétrica a probabilidade $\\gamma$ em torno da média\n",
    "    * Achamos a -Zgama/2 = norm.ppf(0.5-gama/2)\n",
    "    * Achamos a +Zgama/2 = norm.ppf(0.5+gama/2)\n",
    "    * $n = \\left( z_{\\gamma/2} \\cdot \\frac{\\sigma}{d}\\right)^2$\n",
    "        * sendo n o numero de elementos\n",
    "    * (ultimo ex da aps)\n",
    "---"
   ]
  },
  {
   "cell_type": "code",
   "execution_count": 7,
   "metadata": {},
   "outputs": [
    {
     "name": "stdout",
     "output_type": "stream",
     "text": [
      "Numero de elementos que devem ser incluidos:  169.53452088786355\n"
     ]
    }
   ],
   "source": [
    "\"\"\"ULTIMA QUESTAO DA APS \n",
    "informações do ex:\n",
    "1. Não podemos errar mais de 12MPa\n",
    "2. Vai ser necessário fazer um ensaio de tração\n",
    "em  um  certo número de barras \n",
    "\n",
    "Você conhece o desvio padrão da produção, que é de $36MPa$. Note que $1Pa=1N/m_2$.\n",
    "\n",
    "Quantos elementos n você vai precisar incluir na sua amostra de ensaio para garantir que a média X_barra se encontre a menos \n",
    "de 6MPa da média verdadeira da produção em 97% das vezes\n",
    "\n",
    "Não sabemos a media e queremos estimar\n",
    "\"\"\"\n",
    "z = norm.ppf(0.5-(0.97/2))\n",
    "n = (z*(36/6))**2\n",
    "print(\"Numero de elementos que devem ser incluidos: \",n)"
   ]
  },
  {
   "cell_type": "markdown",
   "metadata": {},
   "source": [
    "---\n",
    "# Encontrando $\\hat{\\beta_{1}}$ e $\\hat{\\beta_{0}}$\n",
    "## Fórmulas:\n",
    "* $\\hat{\\beta_{0}}$:\n",
    "$$\\hat{\\beta_{0}} = \\bar{y} - \\hat{\\beta_1} \\bar{x}$$\n",
    "\n",
    "* $\\hat{\\beta_{1}}$:\n",
    "\n",
    "$$\\hat{\\beta_1}= \\frac{\\sum\\limits_{i=1}^{n}(x_{i}-\\bar{x})(y_{i}-\\bar{y})}{\\sum\\limits_{i=1}^{n}(x_{i}-\\bar{x})^2} = \\frac{S_{xy}}{S_{xx}} $$\n",
    "\n",
    "Fórmula alternativa que pode ser útil:\n",
    "\n",
    "\n",
    "$$\\hat{\\beta}_1 = \\frac{Cov(X,Y)}{Var(X)}$$\n",
    "\n",
    "\n",
    "* $SS_E$ \n",
    "    * (SQRes) A soma dos quadrados dos resíduos\n",
    "$$SQRes=SS_{E}=\\sum\\limits^{n}_{i=1}(y_i-\\hat{y}_i)^2=\\sum\\limits_{i=1}^{n}\\epsilon^2_{i}$$\n",
    "\n",
    "\n",
    "* $SQT$\n",
    "    * Também chamado de $SS_T$ no livro, que é a **soma dos quadrados totais**:\n",
    "$$SQT=SS_{T}=\\sum\\limits^{n}_{i=1}(y_i-\\bar{y})^2$$\n",
    "\n",
    "* $R^2$\n",
    "$$ R^2 = 1 - \\frac{SS_E}{SS_T} = \\frac{SS_R}{SS_T}$$\n",
    "\n",
    "\n",
    "\n",
    "---"
   ]
  },
  {
   "cell_type": "code",
   "execution_count": 5,
   "metadata": {},
   "outputs": [],
   "source": [
    "#Caso tenha duas listas transformar em um array pra fazer calculos futuros\n",
    "valor_x = [1, 51, 13, 41,21,123]\n",
    "valor_y = [1, 51, 13, 41,21,123]\n",
    "\n",
    "x = np.array(valor_x)\n",
    "y = np.array(valor_y)\n",
    "\n",
    "x_ = np.mean(x)\n",
    "y_ = np.mean(y)"
   ]
  },
  {
   "cell_type": "code",
   "execution_count": 6,
   "metadata": {},
   "outputs": [
    {
     "name": "stdout",
     "output_type": "stream",
     "text": [
      "Valor de Beta1:  1.0\n",
      "Valor de Beta0:  40.666666666666664\n"
     ]
    }
   ],
   "source": [
    "Sxy = np.sum((x - x_)*(y - y_)) # note que as operações são feitas em cada elemento dos arrays x e y\n",
    "Sxx = np.sum((x-x_)**2)\n",
    "beta_1 = Sxy/Sxx\n",
    "beta_zero = y_ - beta_1\n",
    "print(\"Valor de Beta1: \",beta_1)\n",
    "print(\"Valor de Beta0: \",beta_zero)"
   ]
  },
  {
   "cell_type": "code",
   "execution_count": 4,
   "metadata": {},
   "outputs": [],
   "source": [
    "# SSE = reg.ssr #lembrando que reg seria uma variavel definida da função que faz a regressão\n",
    "# print(\"Valor do SSE: \",SSE)\n",
    "# SQT = np.sum((y-y_)**2)\n",
    "# print(\"Valor SQT: \",SQT)\n",
    "\n",
    "## APS6"
   ]
  },
  {
   "cell_type": "markdown",
   "metadata": {},
   "source": [
    "---\n",
    "# Fazendo uma regressão linear Parte1 \n",
    "\n",
    "---"
   ]
  },
  {
   "cell_type": "code",
   "execution_count": 11,
   "metadata": {
    "scrolled": true
   },
   "outputs": [
    {
     "name": "stderr",
     "output_type": "stream",
     "text": [
      "C:\\Users\\liu\\Anaconda3\\lib\\site-packages\\statsmodels\\stats\\stattools.py:71: ValueWarning: omni_normtest is not valid with less than 8 observations; 6 samples were given.\n",
      "  \"samples were given.\" % int(n), ValueWarning)\n"
     ]
    },
    {
     "data": {
      "text/html": [
       "<table class=\"simpletable\">\n",
       "<caption>OLS Regression Results</caption>\n",
       "<tr>\n",
       "  <th>Dep. Variable:</th>            <td>y</td>        <th>  R-squared:         </th> <td>   1.000</td> \n",
       "</tr>\n",
       "<tr>\n",
       "  <th>Model:</th>                   <td>OLS</td>       <th>  Adj. R-squared:    </th> <td>   1.000</td> \n",
       "</tr>\n",
       "<tr>\n",
       "  <th>Method:</th>             <td>Least Squares</td>  <th>  F-statistic:       </th> <td>1.845e+32</td>\n",
       "</tr>\n",
       "<tr>\n",
       "  <th>Date:</th>             <td>Sun, 24 Nov 2019</td> <th>  Prob (F-statistic):</th> <td>1.76e-64</td> \n",
       "</tr>\n",
       "<tr>\n",
       "  <th>Time:</th>                 <td>13:26:52</td>     <th>  Log-Likelihood:    </th> <td>  188.08</td> \n",
       "</tr>\n",
       "<tr>\n",
       "  <th>No. Observations:</th>      <td>     6</td>      <th>  AIC:               </th> <td>  -372.2</td> \n",
       "</tr>\n",
       "<tr>\n",
       "  <th>Df Residuals:</th>          <td>     4</td>      <th>  BIC:               </th> <td>  -372.6</td> \n",
       "</tr>\n",
       "<tr>\n",
       "  <th>Df Model:</th>              <td>     1</td>      <th>                     </th>     <td> </td>    \n",
       "</tr>\n",
       "<tr>\n",
       "  <th>Covariance Type:</th>      <td>nonrobust</td>    <th>                     </th>     <td> </td>    \n",
       "</tr>\n",
       "</table>\n",
       "<table class=\"simpletable\">\n",
       "<tr>\n",
       "    <td></td>       <th>coef</th>     <th>std err</th>      <th>t</th>      <th>P>|t|</th>  <th>[0.025</th>    <th>0.975]</th>  \n",
       "</tr>\n",
       "<tr>\n",
       "  <th>const</th> <td>-5.329e-15</td> <td> 4.25e-15</td> <td>   -1.253</td> <td> 0.278</td> <td>-1.71e-14</td> <td> 6.48e-15</td>\n",
       "</tr>\n",
       "<tr>\n",
       "  <th>x1</th>    <td>    1.0000</td> <td> 7.36e-17</td> <td> 1.36e+16</td> <td> 0.000</td> <td>    1.000</td> <td>    1.000</td>\n",
       "</tr>\n",
       "</table>\n",
       "<table class=\"simpletable\">\n",
       "<tr>\n",
       "  <th>Omnibus:</th>       <td>   nan</td> <th>  Durbin-Watson:     </th> <td>   0.288</td>\n",
       "</tr>\n",
       "<tr>\n",
       "  <th>Prob(Omnibus):</th> <td>   nan</td> <th>  Jarque-Bera (JB):  </th> <td>   2.062</td>\n",
       "</tr>\n",
       "<tr>\n",
       "  <th>Skew:</th>          <td>-1.414</td> <th>  Prob(JB):          </th> <td>   0.357</td>\n",
       "</tr>\n",
       "<tr>\n",
       "  <th>Kurtosis:</th>      <td> 3.500</td> <th>  Cond. No.          </th> <td>    83.4</td>\n",
       "</tr>\n",
       "</table><br/><br/>Warnings:<br/>[1] Standard Errors assume that the covariance matrix of the errors is correctly specified."
      ],
      "text/plain": [
       "<class 'statsmodels.iolib.summary.Summary'>\n",
       "\"\"\"\n",
       "                            OLS Regression Results                            \n",
       "==============================================================================\n",
       "Dep. Variable:                      y   R-squared:                       1.000\n",
       "Model:                            OLS   Adj. R-squared:                  1.000\n",
       "Method:                 Least Squares   F-statistic:                 1.845e+32\n",
       "Date:                Sun, 24 Nov 2019   Prob (F-statistic):           1.76e-64\n",
       "Time:                        13:26:52   Log-Likelihood:                 188.08\n",
       "No. Observations:                   6   AIC:                            -372.2\n",
       "Df Residuals:                       4   BIC:                            -372.6\n",
       "Df Model:                           1                                         \n",
       "Covariance Type:            nonrobust                                         \n",
       "==============================================================================\n",
       "                 coef    std err          t      P>|t|      [0.025      0.975]\n",
       "------------------------------------------------------------------------------\n",
       "const      -5.329e-15   4.25e-15     -1.253      0.278   -1.71e-14    6.48e-15\n",
       "x1             1.0000   7.36e-17   1.36e+16      0.000       1.000       1.000\n",
       "==============================================================================\n",
       "Omnibus:                          nan   Durbin-Watson:                   0.288\n",
       "Prob(Omnibus):                    nan   Jarque-Bera (JB):                2.062\n",
       "Skew:                          -1.414   Prob(JB):                        0.357\n",
       "Kurtosis:                       3.500   Cond. No.                         83.4\n",
       "==============================================================================\n",
       "\n",
       "Warnings:\n",
       "[1] Standard Errors assume that the covariance matrix of the errors is correctly specified.\n",
       "\"\"\""
      ]
     },
     "execution_count": 11,
     "metadata": {},
     "output_type": "execute_result"
    }
   ],
   "source": [
    "def regress(X,Y):\n",
    "    X_cp = sm.add_constant(X)\n",
    "    model = sm.OLS(Y,X_cp)\n",
    "    results = model.fit()\n",
    "    return results\n",
    "\n",
    "reg = regress(x, y) # DESCOMENTE a linha para funcionar\n",
    "reg.summary() # DESCOMENTE a linha"
   ]
  },
  {
   "cell_type": "code",
   "execution_count": 14,
   "metadata": {},
   "outputs": [
    {
     "name": "stdout",
     "output_type": "stream",
     "text": [
      "Betas do Statsmodels - Beta 0: -5.329070518200751e-15   Beta 1 1.0:\n"
     ]
    }
   ],
   "source": [
    "beta0s = reg.params[0] # como acessar o beta 0 calculado\n",
    "beta1s = reg.params[1] # como acessar o beta 1 e assim por diante\n",
    "print(\"Betas do Statsmodels - Beta 0: {:}   Beta 1 {:}:\".format(beta0s, beta1s))"
   ]
  },
  {
   "cell_type": "markdown",
   "metadata": {},
   "source": [
    "---\n",
    "# Fazendo Regressão Linear parte: 2  - sklearn\n",
    "\n",
    "---"
   ]
  },
  {
   "cell_type": "code",
   "execution_count": null,
   "metadata": {},
   "outputs": [],
   "source": [
    "# Criar a base de treinamento e teste\n",
    "\n",
    "# RANDOM_SEED = 42\n",
    "# np.random.seed(RANDOM_SEED)\n",
    "# X_train, X_test, Y_train, Y_test = train_test_split(X, Y, test_size=0.1, random_state=RANDOM_SEED)"
   ]
  },
  {
   "cell_type": "code",
   "execution_count": 2,
   "metadata": {},
   "outputs": [],
   "source": [
    "from sklearn.linear_model import LinearRegression\n",
    "#model = LinearRegression().fit(X_train,y_train)\n",
    "#y_predict = model.predict(X_test)"
   ]
  },
  {
   "cell_type": "markdown",
   "metadata": {},
   "source": [
    "---\n",
    "# Como analisar a regressão linear \n",
    "* *$R^2$:* Este valor é uma medida de ajustamento de um modelo estatístico linear generalizado varia entre 0 e 1, indicando, em percentagem, o quanto o modelo consegue explicar os valores observados. Quanto maior o R², mais explicativo é o modelo, melhor ele se ajusta à amostra.\n",
    "* **Coef:** são os coeficientes da regressão linear, o **coef constantes** é const\n",
    "* **Pvalue:** Este valor varia de 0 a 1, quanto mais proximo do 0 mais correlacionado são os dados\n",
    "* **F-statistic:** Seria uma junção dos Pvalue, analisa todos os Pvalue, ou seja, ele da a probabilidade dos coeficientes serem encontrados como ß1...ßn mas na realidade não era para existir\n",
    "    * **Este varia de 0 a 1**: quanto mais perto do um, menos correlacionados são os dados, estes betas não deveriam existir\n",
    "    * **Testa as seguintes hipóteses**:\n",
    "        * H0:β1=β2=…=βp=0\n",
    "        * H1:βi≠0 para no mínimo algum  i, com  i=1,…,n\n",
    " \n",
    "    * A rejeição da hipótese nula implica que no mínimo uma variável explicativa (regressora) contruibui significantemente para o modelo. Esse teste F é mais útil no caso de modelo de regressão múltipla.\n",
    "* **Durbin-Watson:** é utilizado para detectar a presença de autocorrelação (dependência) nos resíduos de uma análise de regressão. Ele varia de 0 a 4, sendo que de 0 a 2 indica que há uma autocorrelação positiva e de 2 a 4 indica uma autocorrelação negativa. \n",
    "    * Um valor próximo de  2 sugere que não há autocorrelação dos resíduos\n",
    "    * Um valor menor que  2 sugere correlação positiva dois resíduos\n",
    "    * Um valor maior que  2 sugere correlação negativa dois resíduos\n",
    "* **Omnibus:** testa a normalidade dos residuos\n",
    "* **Prob(Omnibus):** for muito baixo, existe evidência de que os resíduos não são distribuídos normalmente, violando nesse caso a suposição do modelo de regressão.\n",
    "    * Caso o enunciado não dizer nada, se a probabilidade de ombibus for maior que 5% já podemos concluir que segue uma distribuição normal\n",
    "* **JB**: testa a normalidade dos residuos\n",
    "* **Prob(JB):** for muito baixo, existe evidência de que os resíduos não são distribuídos normalmente, violando nesse caso a suposição do modelo de regressão.\n",
    "\n",
    "**obs:** Gabarito aula 25 regressão linear simples explica os testes\n",
    "\n",
    "---"
   ]
  },
  {
   "cell_type": "markdown",
   "metadata": {},
   "source": [
    "---\n",
    "# Teste de hipotese \n",
    "* Fazemos com o parâmetro populacional e não a média amostral\n",
    "\n",
    "* MIN PREENCHE \n",
    "\n",
    "---\n",
    "# Erro tipo 1 e tipo 2\n",
    "|       |H0 é verdadeiro|H0 é falso|\n",
    "|:---|:-----|:-----|\n",
    "|Rejeito H0| Erro tipo 1,Falso Positivo eProbabilidade 𝛼|Decisão correta|  \n",
    "|Não rejeito H0|Decisão correta| Erro tipo 2, Falso Negativo e Probabilidade 𝛽|\n",
    "\n",
    "* alpha é a probabilidade de H0 ser verdadeira, e rejeitarmos\n",
    "* beta é a probabilidade de H1 não ser verdadeira e esta nao ser rejeitada\n",
    "\n",
    "---\n",
    "\n",
    "# Teste de hipotese para uma média populacional \n",
    "* variância populacional conhecida:\n",
    "    * Unicaudal à direita:\n",
    "        * Região crítica: Rejeita-se H para qualquer média amostral $\\bar{x}obs>\\bar{x}critico$\n",
    "    * Unicaudal à esquerda:\n",
    "        * Região crítica: Rejeita-se H para qualquer média amostral $\\bar{x}obs<\\bar{x}critico$\n",
    "    * Bicaudal:\n",
    "        * Região crítica: Rejeita-se H para qualquer média amostral $\\bar{x}obs<\\bar{x}critico1$ e para $\\bar{x}obs>\\bar{x}critico2$\n",
    "        \n",
    "---"
   ]
  },
  {
   "cell_type": "code",
   "execution_count": 12,
   "metadata": {},
   "outputs": [
    {
     "data": {
      "text/plain": [
       "0.0250349456463715"
      ]
     },
     "execution_count": 12,
     "metadata": {},
     "output_type": "execute_result"
    }
   ],
   "source": [
    "# ver aula 23 ex 4 caso n esteja dando certo\n",
    "\"\"\"\n",
    "C. Se a verdadeira média é 3,3 s.m., qual a probabilidade de se tomar uma decisão errada sob H1?\n",
    "Atenção para o erro  β: Nestes casos o exercício sempre precisa fornecer um  μ1\n",
    "alternativo que vai ser assumido como a verdade quando  H0 é falso\n",
    "O exercício em questão nos avisa que, quando  H0 é falso, então vale que  μ=μ1=3.3\n",
    "\"\"\"\n",
    "norm.cdf(3.162844351182859, loc=3.3, scale=.7/10)# item c"
   ]
  },
  {
   "cell_type": "markdown",
   "metadata": {},
   "source": [
    "----\n",
    "# Tstudent e teste normal diferença\n",
    "* $sigma^2$ desconheicodo X (população) normal -- T Student\n",
    "* $sigma^2$ conhecido - teste normal\n",
    "* Grau de liberdade\n",
    "    * grau de liberdade = tamanho_amostra - 1\n",
    "* ddof = 1 \n",
    "\n",
    "# Passos para Construção de um teste de hipóteses (via Região Crítica)\n",
    "* **1o.Passo**: Fixe qual a hipótese nula, H0, a ser testada e qual a hipótese alternativa (HA).\n",
    "* **2o.Passo**: Use a teoria estatística e as informações disponíveis para decidir qual estatística de teste será usada sob H0. Não se esqueça de levantar as propriedades dessa estatística.\n",
    "* **3o.Passo**: Fixe a probabilidade a de cometer erro de rejeitar H0, sob H0 verdadeiro, e use este valor para construir a região crítica RC. Lembre que esta região é construída para a estatística definida no segundo passo, usando o valor hipotetizado em H0.\n",
    "* **4o.Passo**: Use as informações fornecidas pela amostra para encontrar o valor observado da estatística de teste.\n",
    "* **5o.Passo**: Se o valor observado da estatística de teste pertencer à região, crítica rejeite H0; caso contrário, não rejeite.\n",
    "---"
   ]
  },
  {
   "cell_type": "code",
   "execution_count": 25,
   "metadata": {},
   "outputs": [
    {
     "name": "stdout",
     "output_type": "stream",
     "text": [
      "Tamanho da amostral: n= 10\n",
      "Média amostral observada: x_obs= 74.8\n",
      "Desvio padrão amostral observada: s= 8.482662055955993\n"
     ]
    }
   ],
   "source": [
    "#--------------- EXEMPLO ---------------\n",
    "#Dados\n",
    "amostra=(65,70,76,86,59,81,75,72,81,83)\n",
    "\n",
    "n=len(amostra)                                                                                                                                                                                                                                                                                                                                                                                                                                                                                                                                                                                                                             \n",
    "x_obs_barra=np.mean(amostra)\n",
    "devio_padrao=np.std(amostra, ddof=1)\n",
    "\n",
    "print(\"Tamanho da amostral: n=\", n)\n",
    "print(\"Média amostral observada: x_obs=\", x_obs)\n",
    "print(\"Desvio padrão amostral observada: s=\", s)\n",
    "\n",
    "alpha=0.05 #nível de significância fixado para o teste\n",
    "media_da_hipotese_0=80 #sob a hipótese nula\n",
    "\n",
    "#Exemplo de "
   ]
  },
  {
   "cell_type": "code",
   "execution_count": 26,
   "metadata": {},
   "outputs": [
    {
     "name": "stdout",
     "output_type": "stream",
     "text": [
      "t_obs= -1.9385239827313108\n",
      "t_c= -1.8331129326536337\n",
      "\n",
      "Regra geral: Rejeitamos a hipótese nula H0 se t_obs pertencer a Região Crítica (RC)!!\n",
      "\n",
      "RC={t_obs< -1.8331129326536337 }\n",
      "\n",
      "Conclusão: Como t_obs pertence a RC, então há evidências de que desconfiança procede, com 95% de confiança!!\n"
     ]
    }
   ],
   "source": [
    "#Decisão Via Região Crítica: UNICAUDAL a esquerda\n",
    "t_obs=(x_obs_barra-media_da_hipotese_0)/(devio_padrao/np.sqrt(n))\n",
    "\n",
    "t_c=stats.t.ppf(alpha, df=n-1) #valor crítico na cauda a esquerda\n",
    "\n",
    "print(\"t_obs=\",t_obs)\n",
    "print(\"t_c=\",t_c)\n",
    "\n",
    "print(\"\\nRegra geral: Rejeitamos a hipótese nula H0 se t_obs pertencer a Região Crítica (RC)!!\\n\")\n",
    "print(\"RC={t_obs<\", t_c,\"}\\n\")\n",
    "print(\"Conclusão: Como t_obs pertence a RC, então há evidências de que desconfiança procede, com 95% de confiança!!\")"
   ]
  },
  {
   "cell_type": "code",
   "execution_count": 27,
   "metadata": {},
   "outputs": [
    {
     "name": "stdout",
     "output_type": "stream",
     "text": [
      "𝛼 = 0.05\n",
      "Valor-p= 0.042254614967800266\n",
      "\n",
      "Regra geral: Rejeitamos a hipótese nula H0 se valor-p < 𝛼!!\n",
      "\n",
      "Conclusão: Como nos resultados acima vemos que valor-p < 𝛼, então há evidências de que desconfiança procede, com 95% de confiança!!\n"
     ]
    }
   ],
   "source": [
    "#Decisão Via Valor-p: UNICAUDAL a esquerda\n",
    "t_obs=(x_obs_barra-media_da_hipotese_0)/(devio_padrao/np.sqrt(n))\n",
    "\n",
    "valor_p=stats.t.cdf(t_obs, df=n-1) \n",
    "\n",
    "print(\"𝛼 =\",alpha)\n",
    "print(\"Valor-p=\",valor_p)\n",
    "\n",
    "print(\"\\nRegra geral: Rejeitamos a hipótese nula H0 se valor-p < 𝛼!!\\n\")\n",
    "\n",
    "print(\"Conclusão: Como nos resultados acima vemos que valor-p < 𝛼, então há evidências de que desconfiança procede, com 95% de confiança!!\")"
   ]
  },
  {
   "cell_type": "code",
   "execution_count": 28,
   "metadata": {},
   "outputs": [
    {
     "data": {
      "text/plain": [
       "75.08276021616798"
      ]
     },
     "execution_count": 28,
     "metadata": {},
     "output_type": "execute_result"
    }
   ],
   "source": [
    "x_critico = t.ppf(0.05, loc=80, scale=s/sqrt(n), df=n-1)\n",
    "x_critico"
   ]
  },
  {
   "cell_type": "markdown",
   "metadata": {},
   "source": [
    "# Fazer gráfico da normal"
   ]
  },
  {
   "cell_type": "code",
   "execution_count": 9,
   "metadata": {},
   "outputs": [
    {
     "data": {
      "text/plain": [
       "<matplotlib.legend.Legend at 0x1c1cb2c310>"
      ]
     },
     "execution_count": 9,
     "metadata": {},
     "output_type": "execute_result"
    },
    {
     "data": {
      "image/png": "[encoded data removed]",
      "text/plain": [
       "<Figure size 432x288 with 1 Axes>"
      ]
     },
     "metadata": {
      "needs_background": "light"
     },
     "output_type": "display_data"
    }
   ],
   "source": [
    "# PLOTANDO UMA NORMAL\n",
    "mu_fake = 15\n",
    "n = 16\n",
    "sigma = 4\n",
    "sigma_x_=sigma/sqrt(n)\n",
    "x_critico = 18\n",
    "\n",
    "ax = plt.subplot(111)\n",
    "x = np.linspace(10,20,300)\n",
    "y = norm.pdf(x, loc=mu_fake, scale=sigma_x_)\n",
    "plt.plot(x,y)\n",
    "plot_fill = plt.fill_between(x,y, where=x>x_critico, color=\"red\")\n",
    "plot_fill.set_label(\"região de rejeição definida por $x_{critico}$ e $\\\\alpha$\")\n",
    "ax.legend(loc='center left', bbox_to_anchor=(1, 0.5))"
   ]
  },
  {
   "cell_type": "markdown",
   "metadata": {},
   "source": [
    "---\n",
    "# Socrative\n",
    "# Pergunta 1\n",
    "\n",
    "* $E_X1 = 5$\n",
    "* $V_Z1 = 100$\n",
    "* $Antes = Y = X1+X2$\n",
    "* $depois = W =2X1 $\n",
    "* $E(Y) = E(X1)+E(X2) = 10$ \n",
    "* $Var(Y) = Var(X1)+ Var(X2) = 200$\n",
    "* $E(W) = E(2X1) = 2E(X1)$\n",
    "* $V(W) = 4Var(X1) = 400$\n",
    "\n",
    "* Logo a Variabilidade aumenta e não mudaria o processo\n",
    "\n",
    "---\n",
    "\n",
    "\n"
   ]
  },
  {
   "cell_type": "markdown",
   "metadata": {},
   "source": [
    "---\n",
    "# Matriz de confusão\n",
    "* Matriz pra acurácia de um classificador \n",
    "\n",
    "---"
   ]
  },
  {
   "cell_type": "code",
   "execution_count": null,
   "metadata": {},
   "outputs": [],
   "source": []
  }
 ],
 "metadata": {
  "kernelspec": {
   "display_name": "Python 3",
   "language": "python",
   "name": "python3"
  },
  "language_info": {
   "codemirror_mode": {
    "name": "ipython",
    "version": 3
   },
   "file_extension": ".py",
   "mimetype": "text/x-python",
   "name": "python",
   "nbconvert_exporter": "python",
   "pygments_lexer": "ipython3",
   "version": "3.7.4"
  }
 },
 "nbformat": 4,
 "nbformat_minor": 2
}
